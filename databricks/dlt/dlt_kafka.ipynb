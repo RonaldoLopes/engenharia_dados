{
 "cells": [
  {
   "cell_type": "code",
   "execution_count": 0,
   "metadata": {
    "application/vnd.databricks.v1+cell": {
     "cellMetadata": {},
     "inputWidgets": {},
     "nuid": "1fcea43a-62c5-4965-869e-a05df3021dd4",
     "showTitle": false,
     "title": ""
    }
   },
   "outputs": [],
   "source": [
    "import dlt\n",
    "from pyspark.sql.functions import from_json, col\n",
    "from pyspark.sql.types import StructType, StructField, StringType, IntegerType"
   ]
  },
  {
   "cell_type": "markdown",
   "metadata": {
    "application/vnd.databricks.v1+cell": {
     "cellMetadata": {},
     "inputWidgets": {},
     "nuid": "08c88d15-8b05-4f55-a1ab-275687584348",
     "showTitle": false,
     "title": ""
    }
   },
   "source": [
    "### Kafka"
   ]
  },
  {
   "cell_type": "code",
   "execution_count": 0,
   "metadata": {
    "application/vnd.databricks.v1+cell": {
     "cellMetadata": {},
     "inputWidgets": {},
     "nuid": "10746d17-e24c-4e81-935c-55560e40f08f",
     "showTitle": false,
     "title": ""
    }
   },
   "outputs": [],
   "source": [
    "kafka_bootstrap_servers = \"localhost:9092\" #kafka no docker local\n",
    "kafka_topic = \"test\""
   ]
  },
  {
   "cell_type": "code",
   "execution_count": 0,
   "metadata": {
    "application/vnd.databricks.v1+cell": {
     "cellMetadata": {},
     "inputWidgets": {},
     "nuid": "0fa9c78b-cbc8-4a6e-8994-4b900762d0c8",
     "showTitle": false,
     "title": ""
    }
   },
   "outputs": [],
   "source": [
    "schema = StructType([\n",
    "  StructField(\"id\", StringType(), True),\n",
    "  StructField(\"name\", StringType(), True),\n",
    "  StructField(\"value\", IntegerType(), True)\n",
    "])"
   ]
  },
  {
   "cell_type": "markdown",
   "metadata": {
    "application/vnd.databricks.v1+cell": {
     "cellMetadata": {},
     "inputWidgets": {},
     "nuid": "b17d69d1-5f8d-45cf-9df1-b9ba72055213",
     "showTitle": false,
     "title": ""
    }
   },
   "source": [
    "### DLT Tables"
   ]
  },
  {
   "cell_type": "code",
   "execution_count": 0,
   "metadata": {
    "application/vnd.databricks.v1+cell": {
     "cellMetadata": {},
     "inputWidgets": {},
     "nuid": "501aa95d-a133-4703-bd8b-9eb5eaa58bac",
     "showTitle": false,
     "title": ""
    }
   },
   "outputs": [],
   "source": [
    "@dlt.table(\n",
    "    name=\"bronze_table\",\n",
    "    comment=\"Bronze table\",\n",
    "    table_properties={\"quality\": \"bronze\"}\n",
    ")\n",
    "def bronze_table():#Bronze\n",
    "  return(\n",
    "    spark.readStream.format(\"kafka\")\n",
    "    .option(\"kafka.bootstrap.servers\", kafka_bootstrap_servers)\n",
    "    .option(\"suscribe\", kafka_topic)\n",
    "    .option(\"startingOffsets\", \"earliest\") #Lê todos os dados desde o inicio\n",
    "    .load()\n",
    "    .selectExpr(\"CAST(value AS STRING) as json_data\")\n",
    "  )\n",
    "\n",
    "@dlt.table(\n",
    "  name=\"silver_table\",\n",
    "  comment=\"Silver table\",\n",
    "  table_properties={\"quality\": \"silver\"}\n",
    ")\n",
    "def silver_table():# Camada Silver: Transformação dos dados brutos para um formato estruturado\n",
    "  return (\n",
    "    dlt.read_stream(\"bronze_table\")\n",
    "      .select(from_json(col(\"json_data\"), schema).alias(\"data\"))\n",
    "      .select(\"data.*\")  # Desaninha a coluna 'data'\n",
    "  )\n",
    "\n",
    "@dlt.table(\n",
    "  name=\"gold_table\",\n",
    "  comment=\"Gold table\",\n",
    "  table_properties={\"quality\": \"gold\"}\n",
    ")\n",
    "def gold_table():# Camada Gold: Agregação dos dados para análises\n",
    "  return(\n",
    "    dlt.read_stream(\"silver_table\")\n",
    "    .groupBy(\"name\")\n",
    "    .agg({\"value\": \"sum\"})\n",
    "  )"
   ]
  }
 ],
 "metadata": {
  "application/vnd.databricks.v1+notebook": {
   "dashboards": [],
   "environmentMetadata": null,
   "language": "python",
   "notebookMetadata": {
    "pythonIndentUnit": 2
   },
   "notebookName": "dlt_kafka",
   "widgets": {}
  }
 },
 "nbformat": 4,
 "nbformat_minor": 0
}
