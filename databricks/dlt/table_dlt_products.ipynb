{
 "cells": [
  {
   "cell_type": "code",
   "execution_count": 0,
   "metadata": {
    "application/vnd.databricks.v1+cell": {
     "cellMetadata": {},
     "inputWidgets": {},
     "nuid": "28b5cc9f-04f6-4494-a264-5a9537e0dfd9",
     "showTitle": false,
     "title": ""
    }
   },
   "outputs": [],
   "source": [
    "import dlt\n",
    "from pyspark.sql.functions import col, expr"
   ]
  },
  {
   "cell_type": "code",
   "execution_count": 0,
   "metadata": {
    "application/vnd.databricks.v1+cell": {
     "cellMetadata": {},
     "inputWidgets": {},
     "nuid": "b1d1c085-583c-42af-b3dc-58485067aa06",
     "showTitle": false,
     "title": ""
    }
   },
   "outputs": [],
   "source": [
    "ambiente = 'dev'"
   ]
  },
  {
   "cell_type": "code",
   "execution_count": 0,
   "metadata": {
    "application/vnd.databricks.v1+cell": {
     "cellMetadata": {},
     "inputWidgets": {},
     "nuid": "8186a85d-fe36-408d-a311-2eca45a13372",
     "showTitle": false,
     "title": ""
    }
   },
   "outputs": [],
   "source": [
    "%sql\n",
    "CREATE DATABASE IF NOT EXISTS dados.teste;\n",
    "-- DROP DATABASE IF EXISTS dados.teste;"
   ]
  },
  {
   "cell_type": "code",
   "execution_count": 0,
   "metadata": {
    "application/vnd.databricks.v1+cell": {
     "cellMetadata": {},
     "inputWidgets": {},
     "nuid": "e239e546-cbec-4412-b512-81b1fc4d8945",
     "showTitle": false,
     "title": ""
    }
   },
   "outputs": [],
   "source": [
    "df_products = spark.read.format(\"csv\").option(\"header\", \"true\").load(\"/FileStore/tmp/testes/products_data.csv\")\n",
    "display(df_products)"
   ]
  },
  {
   "cell_type": "code",
   "execution_count": 0,
   "metadata": {
    "application/vnd.databricks.v1+cell": {
     "cellMetadata": {},
     "inputWidgets": {},
     "nuid": "3e10e1e4-7c75-4207-b3ae-be8ecde1a9b2",
     "showTitle": false,
     "title": ""
    }
   },
   "outputs": [],
   "source": [
    "@dlt.table(\n",
    "    name=\"bronze_products\",\n",
    "    comment=\"Bronze products\",\n",
    "    table_properties={\"quality\": \"bronze\"}\n",
    ")\n",
    "def bronze_products():\n",
    "  df_bronze = spark.read.format(\"csv\").option(\"header\", \"true\").load(\"/FileStore/tmp/testes/sales_data.csv\")\n",
    "  return df_bronze"
   ]
  },
  {
   "cell_type": "code",
   "execution_count": 0,
   "metadata": {
    "application/vnd.databricks.v1+cell": {
     "cellMetadata": {},
     "inputWidgets": {},
     "nuid": "ff709b84-31d2-4971-9983-44ace7b6006f",
     "showTitle": false,
     "title": ""
    }
   },
   "outputs": [],
   "source": [
    "@dlt.table(\n",
    "  name=\"silver_products\",\n",
    "  comment=\"Silver products\",\n",
    "  table_properties={\"quality\": \"silver\"}\n",
    ")\n",
    "def silver_products():\n",
    "  df_silver = dlt.read_stream(\"bronze_teste\")\n",
    "  df_cleaned = df_silver.filter(col(\"sales_amount\").isNotNull()) \\\n",
    "                    .withColumn(\"sales_amount\", col(\"sales_amount\").cast(\"float\")) \\\n",
    "                    .withColumn(\"sale_date\", expr(\"to_date(sale_date, 'yyyy-MM-dd')\"))\n",
    "  return df_cleaned"
   ]
  },
  {
   "cell_type": "code",
   "execution_count": 0,
   "metadata": {
    "application/vnd.databricks.v1+cell": {
     "cellMetadata": {},
     "inputWidgets": {},
     "nuid": "f5799879-dc3b-458b-98c9-0c7d5d6d77db",
     "showTitle": false,
     "title": ""
    }
   },
   "outputs": [],
   "source": [
    "@dlt.table(\n",
    "  name=\"gold_products\",\n",
    "  comment=\"Gold products\",\n",
    "  table_properties={\"quality\": \"gold\"}\n",
    ")\n",
    "def gold_products():\n",
    "  df_gold = dlt.read_stream(\"silver_teste\")\n",
    "  df_summary = df_gold.groupBy(\"sale_date\") \\\n",
    "                   .agg(\n",
    "                       expr(\"sum(sales_amount)\").alias(\"total_sales\"),\n",
    "                       expr(\"count(*)\").alias(\"total_transactions\")\n",
    "                   )\n",
    "  return df_summary"
   ]
  }
 ],
 "metadata": {
  "application/vnd.databricks.v1+notebook": {
   "dashboards": [],
   "environmentMetadata": null,
   "language": "python",
   "notebookMetadata": {
    "pythonIndentUnit": 2
   },
   "notebookName": "table_dlt_products",
   "widgets": {}
  }
 },
 "nbformat": 4,
 "nbformat_minor": 0
}
