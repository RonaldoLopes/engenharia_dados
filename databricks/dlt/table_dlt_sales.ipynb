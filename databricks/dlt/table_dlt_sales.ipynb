{
 "cells": [
  {
   "cell_type": "code",
   "execution_count": null,
   "metadata": {
    "application/vnd.databricks.v1+cell": {
     "cellMetadata": {
      "byteLimit": 2048000,
      "rowLimit": 10000
     },
     "inputWidgets": {},
     "nuid": "818e246c-c101-42a9-afe1-6f3c35783da2",
     "showTitle": false,
     "title": ""
    }
   },
   "outputs": [],
   "source": [
    "import dlt\n",
    "from pyspark.sql.functions import col, expr"
   ]
  },
  {
   "cell_type": "code",
   "execution_count": null,
   "metadata": {
    "application/vnd.databricks.v1+cell": {
     "cellMetadata": {},
     "inputWidgets": {},
     "nuid": "795b0199-c703-485e-84ac-4925c1efcfd5",
     "showTitle": false,
     "title": ""
    }
   },
   "outputs": [],
   "source": [
    "ambiente = 'dev'"
   ]
  },
  {
   "cell_type": "markdown",
   "metadata": {
    "application/vnd.databricks.v1+cell": {
     "cellMetadata": {},
     "inputWidgets": {},
     "nuid": "c63a6056-85f0-4862-a19a-c8fc257cf30f",
     "showTitle": false,
     "title": ""
    }
   },
   "source": [
    "\n",
    "## Bronze"
   ]
  },
  {
   "cell_type": "code",
   "execution_count": null,
   "metadata": {
    "application/vnd.databricks.v1+cell": {
     "cellMetadata": {
      "byteLimit": 2048000,
      "rowLimit": 10000
     },
     "inputWidgets": {},
     "nuid": "b96864ef-6dbf-4653-af62-8497773c7e28",
     "showTitle": false,
     "title": ""
    }
   },
   "outputs": [
    {
     "data": {
      "text/html": [
       "<style scoped>\n",
       "  .table-result-container {\n",
       "    max-height: 300px;\n",
       "    overflow: auto;\n",
       "  }\n",
       "  table, th, td {\n",
       "    border: 1px solid black;\n",
       "    border-collapse: collapse;\n",
       "  }\n",
       "  th, td {\n",
       "    padding: 5px;\n",
       "  }\n",
       "  th {\n",
       "    text-align: left;\n",
       "  }\n",
       "</style><div class='table-result-container'><table class='table-result'><thead style='background-color: white'><tr><th>sale_id</th><th>sales_amount</th><th>sale_date</th><th>customer_id</th><th>product_id</th><th>quantity</th></tr></thead><tbody><tr><td>1</td><td>100.50</td><td>2024-07-01</td><td>101</td><td>201</td><td>2</td></tr><tr><td>2</td><td>250.75</td><td>2024-07-02</td><td>102</td><td>202</td><td>1</td></tr><tr><td>3</td><td>300.00</td><td>2024-07-03</td><td>103</td><td>203</td><td>3</td></tr><tr><td>4</td><td>150.25</td><td>2024-07-04</td><td>104</td><td>204</td><td>1</td></tr><tr><td>5</td><td>200.00</td><td>2024-07-05</td><td>105</td><td>205</td><td>4</td></tr><tr><td>6</td><td>175.50</td><td>2024-07-06</td><td>106</td><td>206</td><td>2</td></tr><tr><td>7</td><td>225.75</td><td>2024-07-07</td><td>107</td><td>207</td><td>1</td></tr><tr><td>8</td><td>320.00</td><td>2024-07-08</td><td>108</td><td>208</td><td>3</td></tr><tr><td>9</td><td>180.25</td><td>2024-07-09</td><td>109</td><td>209</td><td>1</td></tr><tr><td>10</td><td>210.00</td><td>2024-07-10</td><td>110</td><td>210</td><td>4</td></tr><tr><td>11</td><td>190.50</td><td>2024-07-11</td><td>111</td><td>211</td><td>2</td></tr><tr><td>12</td><td>260.75</td><td>2024-07-12</td><td>112</td><td>212</td><td>1</td></tr><tr><td>13</td><td>310.00</td><td>2024-07-13</td><td>113</td><td>213</td><td>3</td></tr><tr><td>14</td><td>160.25</td><td>2024-07-14</td><td>114</td><td>214</td><td>1</td></tr><tr><td>15</td><td>220.00</td><td>2024-07-15</td><td>115</td><td>215</td><td>4</td></tr><tr><td>16</td><td>185.50</td><td>2024-07-16</td><td>116</td><td>216</td><td>2</td></tr><tr><td>17</td><td>235.75</td><td>2024-07-17</td><td>117</td><td>217</td><td>1</td></tr><tr><td>18</td><td>330.00</td><td>2024-07-18</td><td>118</td><td>218</td><td>3</td></tr><tr><td>19</td><td>170.25</td><td>2024-07-19</td><td>119</td><td>219</td><td>1</td></tr><tr><td>20</td><td>215.00</td><td>2024-07-20</td><td>120</td><td>220</td><td>4</td></tr></tbody></table></div>"
      ]
     },
     "metadata": {
      "application/vnd.databricks.v1+output": {
       "addedWidgets": {},
       "aggData": [],
       "aggError": "",
       "aggOverflow": false,
       "aggSchema": [],
       "aggSeriesLimitReached": false,
       "aggType": "",
       "arguments": {},
       "columnCustomDisplayInfos": {},
       "data": [
        [
         "1",
         "100.50",
         "2024-07-01",
         "101",
         "201",
         "2"
        ],
        [
         "2",
         "250.75",
         "2024-07-02",
         "102",
         "202",
         "1"
        ],
        [
         "3",
         "300.00",
         "2024-07-03",
         "103",
         "203",
         "3"
        ],
        [
         "4",
         "150.25",
         "2024-07-04",
         "104",
         "204",
         "1"
        ],
        [
         "5",
         "200.00",
         "2024-07-05",
         "105",
         "205",
         "4"
        ],
        [
         "6",
         "175.50",
         "2024-07-06",
         "106",
         "206",
         "2"
        ],
        [
         "7",
         "225.75",
         "2024-07-07",
         "107",
         "207",
         "1"
        ],
        [
         "8",
         "320.00",
         "2024-07-08",
         "108",
         "208",
         "3"
        ],
        [
         "9",
         "180.25",
         "2024-07-09",
         "109",
         "209",
         "1"
        ],
        [
         "10",
         "210.00",
         "2024-07-10",
         "110",
         "210",
         "4"
        ],
        [
         "11",
         "190.50",
         "2024-07-11",
         "111",
         "211",
         "2"
        ],
        [
         "12",
         "260.75",
         "2024-07-12",
         "112",
         "212",
         "1"
        ],
        [
         "13",
         "310.00",
         "2024-07-13",
         "113",
         "213",
         "3"
        ],
        [
         "14",
         "160.25",
         "2024-07-14",
         "114",
         "214",
         "1"
        ],
        [
         "15",
         "220.00",
         "2024-07-15",
         "115",
         "215",
         "4"
        ],
        [
         "16",
         "185.50",
         "2024-07-16",
         "116",
         "216",
         "2"
        ],
        [
         "17",
         "235.75",
         "2024-07-17",
         "117",
         "217",
         "1"
        ],
        [
         "18",
         "330.00",
         "2024-07-18",
         "118",
         "218",
         "3"
        ],
        [
         "19",
         "170.25",
         "2024-07-19",
         "119",
         "219",
         "1"
        ],
        [
         "20",
         "215.00",
         "2024-07-20",
         "120",
         "220",
         "4"
        ]
       ],
       "datasetInfos": [],
       "dbfsResultPath": null,
       "isJsonSchema": true,
       "metadata": {},
       "overflow": false,
       "plotOptions": {
        "customPlotOptions": {},
        "displayType": "table",
        "pivotAggregation": null,
        "pivotColumns": null,
        "xColumns": null,
        "yColumns": null
       },
       "removedWidgets": [],
       "schema": [
        {
         "metadata": "{}",
         "name": "sale_id",
         "type": "\"string\""
        },
        {
         "metadata": "{}",
         "name": "sales_amount",
         "type": "\"string\""
        },
        {
         "metadata": "{}",
         "name": "sale_date",
         "type": "\"string\""
        },
        {
         "metadata": "{}",
         "name": "customer_id",
         "type": "\"string\""
        },
        {
         "metadata": "{}",
         "name": "product_id",
         "type": "\"string\""
        },
        {
         "metadata": "{}",
         "name": "quantity",
         "type": "\"string\""
        }
       ],
       "type": "table"
      }
     },
     "output_type": "display_data"
    }
   ],
   "source": [
    "df_sales = spark.read.format(\"csv\").option(\"header\", \"true\").load(\"/FileStore/tmp/testes/sales_data.csv\")\n",
    "display(df_sales)"
   ]
  },
  {
   "cell_type": "code",
   "execution_count": null,
   "metadata": {
    "application/vnd.databricks.v1+cell": {
     "cellMetadata": {
      "byteLimit": 2048000,
      "rowLimit": 10000
     },
     "inputWidgets": {},
     "nuid": "0a51fb82-c9d5-4e3a-a865-98c43a674a67",
     "showTitle": false,
     "title": ""
    }
   },
   "outputs": [
    {
     "ename": "",
     "evalue": "",
     "output_type": "error",
     "traceback": [
      "\u001b[1;31mRunning cells with 'venv (Python 3.12.4)' requires the ipykernel package.\n",
      "\u001b[1;31mRun the following command to install 'ipykernel' into the Python environment. \n",
      "\u001b[1;31mCommand: '/home/ronaldo/engenharia_dados/venv/bin/python -m pip install ipykernel -U --force-reinstall'"
     ]
    }
   ],
   "source": [
    "@dlt.table(\n",
    "    name=\"bronze_sale\",\n",
    "    comment=\"Bronze sales\",\n",
    "    table_properties={\"quality\": \"bronze\"}\n",
    ")\n",
    "def bronze_sale():\n",
    "  df_bronze = spark.read.format(\"csv\").option(\"header\", \"true\").load(\"/FileStore/tmp/testes/sales_data.csv\")\n",
    "  return df_bronze"
   ]
  },
  {
   "cell_type": "markdown",
   "metadata": {
    "application/vnd.databricks.v1+cell": {
     "cellMetadata": {},
     "inputWidgets": {},
     "nuid": "795b274e-844c-4caa-a68f-df662eea6450",
     "showTitle": false,
     "title": ""
    }
   },
   "source": [
    "## Silver"
   ]
  },
  {
   "cell_type": "code",
   "execution_count": null,
   "metadata": {
    "application/vnd.databricks.v1+cell": {
     "cellMetadata": {},
     "inputWidgets": {},
     "nuid": "bd4cf8ca-a22a-4578-8fd6-7efa16ab16d2",
     "showTitle": false,
     "title": ""
    }
   },
   "outputs": [],
   "source": [
    "@dlt.table(\n",
    "  name=\"silver_sale\",\n",
    "  comment=\"Silver sale\",\n",
    "  table_properties={\"quality\": \"silver\"}\n",
    ")\n",
    "def silver_sale():\n",
    "  df_silver = dlt.read_stream(\"bronze_teste\")\n",
    "  df_cleaned = df_silver.filter(col(\"sales_amount\").isNotNull()) \\\n",
    "                    .withColumn(\"sales_amount\", col(\"sales_amount\").cast(\"float\")) \\\n",
    "                    .withColumn(\"sale_date\", expr(\"to_date(sale_date, 'yyyy-MM-dd')\"))\n",
    "  return df_cleaned"
   ]
  },
  {
   "cell_type": "markdown",
   "metadata": {
    "application/vnd.databricks.v1+cell": {
     "cellMetadata": {},
     "inputWidgets": {},
     "nuid": "e7bc16f9-beab-425f-b3a8-392268c8d13c",
     "showTitle": false,
     "title": ""
    }
   },
   "source": [
    "## Gold"
   ]
  },
  {
   "cell_type": "code",
   "execution_count": null,
   "metadata": {
    "application/vnd.databricks.v1+cell": {
     "cellMetadata": {},
     "inputWidgets": {},
     "nuid": "556a8343-3398-435e-a495-81f692eb9418",
     "showTitle": false,
     "title": ""
    }
   },
   "outputs": [],
   "source": [
    "@dlt.table(\n",
    "  name=\"gold_sale\",\n",
    "  comment=\"Gold sale\",\n",
    "  table_properties={\"quality\": \"gold\"}\n",
    ")\n",
    "def gold_sale():\n",
    "  df_gold = dlt.read_stream(\"silver_teste\")\n",
    "  df_summary = df_gold.groupBy(\"sale_date\") \\\n",
    "                   .agg(\n",
    "                       expr(\"sum(sales_amount)\").alias(\"total_sales\"),\n",
    "                       expr(\"count(*)\").alias(\"total_transactions\")\n",
    "                   )\n",
    "  return df_summary"
   ]
  }
 ],
 "metadata": {
  "application/vnd.databricks.v1+notebook": {
   "dashboards": [],
   "environmentMetadata": null,
   "language": "python",
   "notebookMetadata": {
    "mostRecentlyExecutedCommandWithImplicitDF": {
     "commandId": 1648828031987780,
     "dataframes": [
      "_sqldf"
     ]
    },
    "pythonIndentUnit": 2
   },
   "notebookName": "table_dlt_sales",
   "widgets": {}
  },
  "kernelspec": {
   "display_name": "venv",
   "language": "python",
   "name": "python3"
  },
  "language_info": {
   "name": "python",
   "version": "3.12.4"
  }
 },
 "nbformat": 4,
 "nbformat_minor": 0
}
