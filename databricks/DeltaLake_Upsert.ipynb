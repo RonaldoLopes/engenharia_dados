{
 "cells": [
  {
   "cell_type": "code",
   "execution_count": 0,
   "metadata": {
    "application/vnd.databricks.v1+cell": {
     "cellMetadata": {
      "byteLimit": 2048000,
      "rowLimit": 10000
     },
     "inputWidgets": {},
     "nuid": "f142d9fc-d2aa-4eb6-a9ca-97ff2f7ffe54",
     "showTitle": false,
     "title": ""
    }
   },
   "outputs": [
    {
     "output_type": "display_data",
     "data": {
      "text/html": [
       "<style scoped>\n",
       "  .table-result-container {\n",
       "    max-height: 300px;\n",
       "    overflow: auto;\n",
       "  }\n",
       "  table, th, td {\n",
       "    border: 1px solid black;\n",
       "    border-collapse: collapse;\n",
       "  }\n",
       "  th, td {\n",
       "    padding: 5px;\n",
       "  }\n",
       "  th {\n",
       "    text-align: left;\n",
       "  }\n",
       "</style><div class='table-result-container'><table class='table-result'><thead style='background-color: white'><tr><th>id</th><th>nome</th><th>status</th><th>cidade</th><th>vendas</th><th>data</th></tr></thead><tbody><tr><td>1</td><td>Carminda Pestana</td><td>Ativo</td><td>Santa Maria</td><td>23</td><td>2020-08-11</td></tr><tr><td>2</td><td>Deolinda Vilela</td><td>Ativo</td><td>Novo Hamburgo</td><td>34</td><td>2020-03-05</td></tr><tr><td>3</td><td>Emídio Dornelles</td><td>Ativo</td><td>Porto Alegre</td><td>34</td><td>2020-02-05</td></tr><tr><td>4</td><td>Felisbela Dornelles</td><td>Ativo</td><td>Porto Alegre</td><td>36</td><td>2020-02-05</td></tr><tr><td>5</td><td>Graça Ornellas</td><td>Ativo</td><td>Porto Alegre</td><td>12</td><td>2020-02-05</td></tr><tr><td>6</td><td>Matilde Rebouças</td><td>Ativo</td><td>Porto Alegre</td><td>22</td><td>2019-01-05</td></tr><tr><td>7</td><td>Noêmia   Orriça</td><td>Ativo</td><td>Santa Maria</td><td>45</td><td>2019-10-05</td></tr><tr><td>8</td><td>Roque Vásquez</td><td>Ativo</td><td>Porto Alegre</td><td>65</td><td>2020-03-05</td></tr><tr><td>9</td><td>Uriel Queiroz</td><td>Ativo</td><td>Porto Alegre</td><td>54</td><td>2018-05-05</td></tr><tr><td>10</td><td>Viviana Sequeira</td><td>Ativo</td><td>Porto Alegre</td><td>0</td><td>2020-09-05</td></tr></tbody></table></div>"
      ]
     },
     "metadata": {
      "application/vnd.databricks.v1+output": {
       "addedWidgets": {},
       "aggData": [],
       "aggError": "",
       "aggOverflow": false,
       "aggSchema": [],
       "aggSeriesLimitReached": false,
       "aggType": "",
       "arguments": {},
       "columnCustomDisplayInfos": {},
       "data": [
        [
         1,
         "Carminda Pestana",
         "Ativo",
         "Santa Maria",
         23,
         "2020-08-11"
        ],
        [
         2,
         "Deolinda Vilela",
         "Ativo",
         "Novo Hamburgo",
         34,
         "2020-03-05"
        ],
        [
         3,
         "Emídio Dornelles",
         "Ativo",
         "Porto Alegre",
         34,
         "2020-02-05"
        ],
        [
         4,
         "Felisbela Dornelles",
         "Ativo",
         "Porto Alegre",
         36,
         "2020-02-05"
        ],
        [
         5,
         "Graça Ornellas",
         "Ativo",
         "Porto Alegre",
         12,
         "2020-02-05"
        ],
        [
         6,
         "Matilde Rebouças",
         "Ativo",
         "Porto Alegre",
         22,
         "2019-01-05"
        ],
        [
         7,
         "Noêmia   Orriça",
         "Ativo",
         "Santa Maria",
         45,
         "2019-10-05"
        ],
        [
         8,
         "Roque Vásquez",
         "Ativo",
         "Porto Alegre",
         65,
         "2020-03-05"
        ],
        [
         9,
         "Uriel Queiroz",
         "Ativo",
         "Porto Alegre",
         54,
         "2018-05-05"
        ],
        [
         10,
         "Viviana Sequeira",
         "Ativo",
         "Porto Alegre",
         0,
         "2020-09-05"
        ]
       ],
       "datasetInfos": [],
       "dbfsResultPath": null,
       "isJsonSchema": true,
       "metadata": {},
       "overflow": false,
       "plotOptions": {
        "customPlotOptions": {},
        "displayType": "table",
        "pivotAggregation": null,
        "pivotColumns": null,
        "xColumns": null,
        "yColumns": null
       },
       "removedWidgets": [],
       "schema": [
        {
         "metadata": "{}",
         "name": "id",
         "type": "\"integer\""
        },
        {
         "metadata": "{}",
         "name": "nome",
         "type": "\"string\""
        },
        {
         "metadata": "{}",
         "name": "status",
         "type": "\"string\""
        },
        {
         "metadata": "{}",
         "name": "cidade",
         "type": "\"string\""
        },
        {
         "metadata": "{}",
         "name": "vendas",
         "type": "\"integer\""
        },
        {
         "metadata": "{}",
         "name": "data",
         "type": "\"string\""
        }
       ],
       "type": "table"
      }
     },
     "output_type": "display_data"
    }
   ],
   "source": [
    "from delta.tables import *\n",
    "despachantes_df = spark.table(\"despachantes\")\n",
    "despachantes_df.display()"
   ]
  },
  {
   "cell_type": "code",
   "execution_count": 0,
   "metadata": {
    "application/vnd.databricks.v1+cell": {
     "cellMetadata": {
      "byteLimit": 2048000,
      "rowLimit": 10000
     },
     "inputWidgets": {},
     "nuid": "a944041d-485a-43ae-913c-f696cc603537",
     "showTitle": false,
     "title": ""
    }
   },
   "outputs": [
    {
     "output_type": "display_data",
     "data": {
      "text/html": [
       "<style scoped>\n",
       "  .table-result-container {\n",
       "    max-height: 300px;\n",
       "    overflow: auto;\n",
       "  }\n",
       "  table, th, td {\n",
       "    border: 1px solid black;\n",
       "    border-collapse: collapse;\n",
       "  }\n",
       "  th, td {\n",
       "    padding: 5px;\n",
       "  }\n",
       "  th {\n",
       "    text-align: left;\n",
       "  }\n",
       "</style><div class='table-result-container'><table class='table-result'><thead style='background-color: white'><tr><th>id</th><th>nome</th><th>status</th><th>cidade</th><th>vendas</th><th>data</th></tr></thead><tbody><tr><td>1</td><td>João</td><td>Ativo</td><td>São Paulo</td><td>10000</td><td>2023-07-05</td></tr><tr><td>2</td><td>Deolinda Vilela</td><td>Ativo</td><td>Novo Hamburgo</td><td>34</td><td>2020-03-05</td></tr><tr><td>3</td><td>Emídio Dornelles</td><td>Ativo</td><td>Porto Alegre</td><td>34</td><td>2020-02-05</td></tr><tr><td>4</td><td>Felisbela Dornelles</td><td>Ativo</td><td>Porto Alegre</td><td>36</td><td>2020-02-05</td></tr><tr><td>5</td><td>Graça Ornellas</td><td>Ativo</td><td>Porto Alegre</td><td>12</td><td>2020-02-05</td></tr><tr><td>6</td><td>Matilde Rebouças</td><td>Ativo</td><td>Porto Alegre</td><td>22</td><td>2019-01-05</td></tr><tr><td>7</td><td>Noêmia   Orriça</td><td>Ativo</td><td>Santa Maria</td><td>45</td><td>2019-10-05</td></tr><tr><td>8</td><td>Roque Vásquez</td><td>Ativo</td><td>Porto Alegre</td><td>65</td><td>2020-03-05</td></tr><tr><td>9</td><td>Uriel Queiroz</td><td>Ativo</td><td>Porto Alegre</td><td>54</td><td>2018-05-05</td></tr><tr><td>10</td><td>Viviana Sequeira</td><td>Ativo</td><td>Porto Alegre</td><td>0</td><td>2020-09-05</td></tr><tr><td>11</td><td>Maria</td><td>Inativo</td><td>Rio de Janeiro</td><td>5000</td><td>2023-07-05</td></tr></tbody></table></div>"
      ]
     },
     "metadata": {
      "application/vnd.databricks.v1+output": {
       "addedWidgets": {},
       "aggData": [],
       "aggError": "",
       "aggOverflow": false,
       "aggSchema": [],
       "aggSeriesLimitReached": false,
       "aggType": "",
       "arguments": {},
       "columnCustomDisplayInfos": {},
       "data": [
        [
         1,
         "João",
         "Ativo",
         "São Paulo",
         10000,
         "2023-07-05"
        ],
        [
         2,
         "Deolinda Vilela",
         "Ativo",
         "Novo Hamburgo",
         34,
         "2020-03-05"
        ],
        [
         3,
         "Emídio Dornelles",
         "Ativo",
         "Porto Alegre",
         34,
         "2020-02-05"
        ],
        [
         4,
         "Felisbela Dornelles",
         "Ativo",
         "Porto Alegre",
         36,
         "2020-02-05"
        ],
        [
         5,
         "Graça Ornellas",
         "Ativo",
         "Porto Alegre",
         12,
         "2020-02-05"
        ],
        [
         6,
         "Matilde Rebouças",
         "Ativo",
         "Porto Alegre",
         22,
         "2019-01-05"
        ],
        [
         7,
         "Noêmia   Orriça",
         "Ativo",
         "Santa Maria",
         45,
         "2019-10-05"
        ],
        [
         8,
         "Roque Vásquez",
         "Ativo",
         "Porto Alegre",
         65,
         "2020-03-05"
        ],
        [
         9,
         "Uriel Queiroz",
         "Ativo",
         "Porto Alegre",
         54,
         "2018-05-05"
        ],
        [
         10,
         "Viviana Sequeira",
         "Ativo",
         "Porto Alegre",
         0,
         "2020-09-05"
        ],
        [
         11,
         "Maria",
         "Inativo",
         "Rio de Janeiro",
         5000,
         "2023-07-05"
        ]
       ],
       "datasetInfos": [],
       "dbfsResultPath": null,
       "isJsonSchema": true,
       "metadata": {},
       "overflow": false,
       "plotOptions": {
        "customPlotOptions": {},
        "displayType": "table",
        "pivotAggregation": null,
        "pivotColumns": null,
        "xColumns": null,
        "yColumns": null
       },
       "removedWidgets": [],
       "schema": [
        {
         "metadata": "{}",
         "name": "id",
         "type": "\"integer\""
        },
        {
         "metadata": "{}",
         "name": "nome",
         "type": "\"string\""
        },
        {
         "metadata": "{}",
         "name": "status",
         "type": "\"string\""
        },
        {
         "metadata": "{}",
         "name": "cidade",
         "type": "\"string\""
        },
        {
         "metadata": "{}",
         "name": "vendas",
         "type": "\"integer\""
        },
        {
         "metadata": "{}",
         "name": "data",
         "type": "\"string\""
        }
       ],
       "type": "table"
      }
     },
     "output_type": "display_data"
    }
   ],
   "source": [
    "# Criando um novo DataFrame com os dados que serão inseridos ou atualizados\n",
    "novo_despachante = spark.createDataFrame([(1, \"João\", \"Ativo\", \"São Paulo\", 10000, \"2023-07-05\"),\n",
    "                                          (11, \"Maria\", \"Inativo\", \"Rio de Janeiro\", 5000, \"2023-07-05\")],\n",
    "                                         [\"id\", \"nome\", \"status\", \"cidade\", \"vendas\", \"data\"])\n",
    "\n",
    "# Especificando o caminho para o diretório Delta Lake onde os dados serão armazenados\n",
    "delta_path = \"/path/despachantes\"\n",
    "\n",
    "# Salvando o DataFrame original no formato Delta Lake\n",
    "despachantes_df.write.format(\"delta\").mode(\"overwrite\").save(delta_path)\n",
    "\n",
    "# Carregando o DeltaTable a partir do caminho especificado\n",
    "delta_table = DeltaTable.forPath(spark, delta_path)\n",
    "\n",
    "# Definindo a condição de merge (como exemplo, vamos usar a coluna \"id\")\n",
    "condition = \"target.id = source.id\"\n",
    "\n",
    "# Executando o merge/upsert\n",
    "delta_table.alias(\"target\") \\\n",
    "    .merge(novo_despachante.alias(\"source\"), condition) \\\n",
    "    .whenMatchedUpdate(set={\"nome\": \"source.nome\", \"status\": \"source.status\", \"cidade\": \"source.cidade\",                               \"vendas\": \"source.vendas\", \"data\": \"source.data\"}) \\\n",
    "    .whenNotMatchedInsert(values={\"id\": \"source.id\", \"nome\": \"source.nome\", \"status\": \"source.status\",\n",
    "                                  \"cidade\": \"source.cidade\", \"vendas\": \"source.vendas\", \"data\": \"source.data\"}) \\\n",
    "    .execute()\n",
    "\n",
    "# Lendo o DataFrame resultante após o merge/upsert\n",
    "despachantes_atualizados_df = spark.read.format(\"delta\").load(delta_path)\n",
    "\n",
    "# Exibindo o DataFrame resultante\n",
    "despachantes_atualizados_df.orderBy(\"id\").display()\n"
   ]
  },
  {
   "cell_type": "code",
   "execution_count": 0,
   "metadata": {
    "application/vnd.databricks.v1+cell": {
     "cellMetadata": {
      "byteLimit": 2048000,
      "rowLimit": 10000
     },
     "inputWidgets": {},
     "nuid": "91f11af1-16b0-44ac-b53a-79ac960d0c16",
     "showTitle": false,
     "title": ""
    }
   },
   "outputs": [
    {
     "output_type": "execute_result",
     "data": {
      "text/plain": [
       "True"
      ]
     },
     "execution_count": 3,
     "metadata": {},
     "output_type": "execute_result"
    }
   ],
   "source": [
    "dbutils.fs.rm(\"/path/despachantes\", recurse=True)"
   ]
  }
 ],
 "metadata": {
  "application/vnd.databricks.v1+notebook": {
   "dashboards": [],
   "language": "python",
   "notebookMetadata": {
    "pythonIndentUnit": 4
   },
   "notebookName": "DeltaLake_Upsert",
   "widgets": {}
  }
 },
 "nbformat": 4,
 "nbformat_minor": 0
}
