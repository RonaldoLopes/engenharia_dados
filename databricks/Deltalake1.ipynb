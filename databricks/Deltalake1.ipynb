{
 "cells": [
  {
   "cell_type": "code",
   "execution_count": 0,
   "metadata": {
    "application/vnd.databricks.v1+cell": {
     "cellMetadata": {
      "byteLimit": 2048000,
      "implicitDf": true,
      "rowLimit": 10000
     },
     "inputWidgets": {},
     "nuid": "8a0e2f4f-8ba2-4bc0-939f-e113a856a778",
     "showTitle": false,
     "title": ""
    }
   },
   "outputs": [
    {
     "output_type": "display_data",
     "data": {
      "text/html": [
       "<style scoped>\n",
       "  .table-result-container {\n",
       "    max-height: 300px;\n",
       "    overflow: auto;\n",
       "  }\n",
       "  table, th, td {\n",
       "    border: 1px solid black;\n",
       "    border-collapse: collapse;\n",
       "  }\n",
       "  th, td {\n",
       "    padding: 5px;\n",
       "  }\n",
       "  th {\n",
       "    text-align: left;\n",
       "  }\n",
       "</style><div class='table-result-container'><table class='table-result'><thead style='background-color: white'><tr><th>Consumo</th><th>Cilindros</th><th>Cilindradas</th><th>RelEixoTraseiro</th><th>Peso</th><th>Tempo</th><th>TipoMotor</th><th>Transmissao</th><th>Marchas</th><th>Carburadors</th><th>HP</th></tr></thead><tbody><tr><td>21</td><td>6</td><td>160</td><td>39</td><td>262</td><td>1646</td><td>0</td><td>1</td><td>4</td><td>4</td><td>110</td></tr><tr><td>21</td><td>6</td><td>160</td><td>39</td><td>2875</td><td>1702</td><td>0</td><td>1</td><td>4</td><td>4</td><td>110</td></tr><tr><td>228</td><td>4</td><td>108</td><td>385</td><td>232</td><td>1861</td><td>1</td><td>1</td><td>4</td><td>1</td><td>93</td></tr><tr><td>214</td><td>6</td><td>258</td><td>308</td><td>3215</td><td>1944</td><td>1</td><td>0</td><td>3</td><td>1</td><td>110</td></tr><tr><td>187</td><td>8</td><td>360</td><td>315</td><td>344</td><td>1702</td><td>0</td><td>0</td><td>3</td><td>2</td><td>175</td></tr><tr><td>181</td><td>6</td><td>225</td><td>276</td><td>346</td><td>2022</td><td>1</td><td>0</td><td>3</td><td>1</td><td>105</td></tr><tr><td>143</td><td>8</td><td>360</td><td>321</td><td>357</td><td>1584</td><td>0</td><td>0</td><td>3</td><td>4</td><td>245</td></tr><tr><td>244</td><td>4</td><td>1467</td><td>369</td><td>319</td><td>20</td><td>1</td><td>0</td><td>4</td><td>2</td><td>62</td></tr><tr><td>228</td><td>4</td><td>1408</td><td>392</td><td>315</td><td>229</td><td>1</td><td>0</td><td>4</td><td>2</td><td>95</td></tr><tr><td>192</td><td>6</td><td>1676</td><td>392</td><td>344</td><td>183</td><td>1</td><td>0</td><td>4</td><td>4</td><td>123</td></tr><tr><td>178</td><td>6</td><td>1676</td><td>392</td><td>344</td><td>189</td><td>1</td><td>0</td><td>4</td><td>4</td><td>123</td></tr><tr><td>164</td><td>8</td><td>2758</td><td>307</td><td>407</td><td>174</td><td>0</td><td>0</td><td>3</td><td>3</td><td>180</td></tr><tr><td>173</td><td>8</td><td>2758</td><td>307</td><td>373</td><td>176</td><td>0</td><td>0</td><td>3</td><td>3</td><td>180</td></tr><tr><td>152</td><td>8</td><td>2758</td><td>307</td><td>378</td><td>18</td><td>0</td><td>0</td><td>3</td><td>3</td><td>180</td></tr><tr><td>104</td><td>8</td><td>472</td><td>293</td><td>525</td><td>1798</td><td>0</td><td>0</td><td>3</td><td>4</td><td>205</td></tr><tr><td>104</td><td>8</td><td>460</td><td>3</td><td>5424</td><td>1782</td><td>0</td><td>0</td><td>3</td><td>4</td><td>215</td></tr><tr><td>147</td><td>8</td><td>440</td><td>323</td><td>5345</td><td>1742</td><td>0</td><td>0</td><td>3</td><td>4</td><td>230</td></tr><tr><td>324</td><td>4</td><td>787</td><td>408</td><td>22</td><td>1947</td><td>1</td><td>1</td><td>4</td><td>1</td><td>66</td></tr><tr><td>304</td><td>4</td><td>757</td><td>493</td><td>1615</td><td>1852</td><td>1</td><td>1</td><td>4</td><td>2</td><td>52</td></tr><tr><td>339</td><td>4</td><td>711</td><td>422</td><td>1835</td><td>199</td><td>1</td><td>1</td><td>4</td><td>1</td><td>65</td></tr><tr><td>215</td><td>4</td><td>1201</td><td>37</td><td>2465</td><td>2001</td><td>1</td><td>0</td><td>3</td><td>1</td><td>97</td></tr><tr><td>155</td><td>8</td><td>318</td><td>276</td><td>352</td><td>1687</td><td>0</td><td>0</td><td>3</td><td>2</td><td>150</td></tr><tr><td>152</td><td>8</td><td>304</td><td>315</td><td>3435</td><td>173</td><td>0</td><td>0</td><td>3</td><td>2</td><td>150</td></tr><tr><td>133</td><td>8</td><td>350</td><td>373</td><td>384</td><td>1541</td><td>0</td><td>0</td><td>3</td><td>4</td><td>245</td></tr><tr><td>192</td><td>8</td><td>400</td><td>308</td><td>3845</td><td>1705</td><td>0</td><td>0</td><td>3</td><td>2</td><td>175</td></tr><tr><td>273</td><td>4</td><td>79</td><td>408</td><td>1935</td><td>189</td><td>1</td><td>1</td><td>4</td><td>1</td><td>66</td></tr><tr><td>26</td><td>4</td><td>1203</td><td>443</td><td>214</td><td>167</td><td>0</td><td>1</td><td>5</td><td>2</td><td>91</td></tr><tr><td>304</td><td>4</td><td>951</td><td>377</td><td>1513</td><td>169</td><td>1</td><td>1</td><td>5</td><td>2</td><td>113</td></tr><tr><td>158</td><td>8</td><td>351</td><td>422</td><td>317</td><td>145</td><td>0</td><td>1</td><td>5</td><td>4</td><td>264</td></tr><tr><td>197</td><td>6</td><td>145</td><td>362</td><td>277</td><td>155</td><td>0</td><td>1</td><td>5</td><td>6</td><td>175</td></tr><tr><td>15</td><td>8</td><td>301</td><td>354</td><td>357</td><td>146</td><td>0</td><td>1</td><td>5</td><td>8</td><td>335</td></tr><tr><td>214</td><td>4</td><td>121</td><td>411</td><td>278</td><td>186</td><td>1</td><td>1</td><td>4</td><td>2</td><td>109</td></tr></tbody></table></div>"
      ]
     },
     "metadata": {
      "application/vnd.databricks.v1+output": {
       "addedWidgets": {},
       "aggData": [],
       "aggError": "",
       "aggOverflow": false,
       "aggSchema": [],
       "aggSeriesLimitReached": false,
       "aggType": "",
       "arguments": {},
       "columnCustomDisplayInfos": {},
       "data": [
        [
         21,
         6,
         160,
         39,
         262,
         1646,
         0,
         1,
         4,
         4,
         110
        ],
        [
         21,
         6,
         160,
         39,
         2875,
         1702,
         0,
         1,
         4,
         4,
         110
        ],
        [
         228,
         4,
         108,
         385,
         232,
         1861,
         1,
         1,
         4,
         1,
         93
        ],
        [
         214,
         6,
         258,
         308,
         3215,
         1944,
         1,
         0,
         3,
         1,
         110
        ],
        [
         187,
         8,
         360,
         315,
         344,
         1702,
         0,
         0,
         3,
         2,
         175
        ],
        [
         181,
         6,
         225,
         276,
         346,
         2022,
         1,
         0,
         3,
         1,
         105
        ],
        [
         143,
         8,
         360,
         321,
         357,
         1584,
         0,
         0,
         3,
         4,
         245
        ],
        [
         244,
         4,
         1467,
         369,
         319,
         20,
         1,
         0,
         4,
         2,
         62
        ],
        [
         228,
         4,
         1408,
         392,
         315,
         229,
         1,
         0,
         4,
         2,
         95
        ],
        [
         192,
         6,
         1676,
         392,
         344,
         183,
         1,
         0,
         4,
         4,
         123
        ],
        [
         178,
         6,
         1676,
         392,
         344,
         189,
         1,
         0,
         4,
         4,
         123
        ],
        [
         164,
         8,
         2758,
         307,
         407,
         174,
         0,
         0,
         3,
         3,
         180
        ],
        [
         173,
         8,
         2758,
         307,
         373,
         176,
         0,
         0,
         3,
         3,
         180
        ],
        [
         152,
         8,
         2758,
         307,
         378,
         18,
         0,
         0,
         3,
         3,
         180
        ],
        [
         104,
         8,
         472,
         293,
         525,
         1798,
         0,
         0,
         3,
         4,
         205
        ],
        [
         104,
         8,
         460,
         3,
         5424,
         1782,
         0,
         0,
         3,
         4,
         215
        ],
        [
         147,
         8,
         440,
         323,
         5345,
         1742,
         0,
         0,
         3,
         4,
         230
        ],
        [
         324,
         4,
         787,
         408,
         22,
         1947,
         1,
         1,
         4,
         1,
         66
        ],
        [
         304,
         4,
         757,
         493,
         1615,
         1852,
         1,
         1,
         4,
         2,
         52
        ],
        [
         339,
         4,
         711,
         422,
         1835,
         199,
         1,
         1,
         4,
         1,
         65
        ],
        [
         215,
         4,
         1201,
         37,
         2465,
         2001,
         1,
         0,
         3,
         1,
         97
        ],
        [
         155,
         8,
         318,
         276,
         352,
         1687,
         0,
         0,
         3,
         2,
         150
        ],
        [
         152,
         8,
         304,
         315,
         3435,
         173,
         0,
         0,
         3,
         2,
         150
        ],
        [
         133,
         8,
         350,
         373,
         384,
         1541,
         0,
         0,
         3,
         4,
         245
        ],
        [
         192,
         8,
         400,
         308,
         3845,
         1705,
         0,
         0,
         3,
         2,
         175
        ],
        [
         273,
         4,
         79,
         408,
         1935,
         189,
         1,
         1,
         4,
         1,
         66
        ],
        [
         26,
         4,
         1203,
         443,
         214,
         167,
         0,
         1,
         5,
         2,
         91
        ],
        [
         304,
         4,
         951,
         377,
         1513,
         169,
         1,
         1,
         5,
         2,
         113
        ],
        [
         158,
         8,
         351,
         422,
         317,
         145,
         0,
         1,
         5,
         4,
         264
        ],
        [
         197,
         6,
         145,
         362,
         277,
         155,
         0,
         1,
         5,
         6,
         175
        ],
        [
         15,
         8,
         301,
         354,
         357,
         146,
         0,
         1,
         5,
         8,
         335
        ],
        [
         214,
         4,
         121,
         411,
         278,
         186,
         1,
         1,
         4,
         2,
         109
        ]
       ],
       "datasetInfos": [],
       "dbfsResultPath": null,
       "isJsonSchema": true,
       "metadata": {
        "dataframeName": "_sqldf",
        "executionCount": 1
       },
       "overflow": false,
       "plotOptions": {
        "customPlotOptions": {},
        "displayType": "table",
        "pivotAggregation": null,
        "pivotColumns": null,
        "xColumns": null,
        "yColumns": null
       },
       "removedWidgets": [],
       "schema": [
        {
         "metadata": "{}",
         "name": "Consumo",
         "type": "\"integer\""
        },
        {
         "metadata": "{}",
         "name": "Cilindros",
         "type": "\"integer\""
        },
        {
         "metadata": "{}",
         "name": "Cilindradas",
         "type": "\"integer\""
        },
        {
         "metadata": "{}",
         "name": "RelEixoTraseiro",
         "type": "\"integer\""
        },
        {
         "metadata": "{}",
         "name": "Peso",
         "type": "\"integer\""
        },
        {
         "metadata": "{}",
         "name": "Tempo",
         "type": "\"integer\""
        },
        {
         "metadata": "{}",
         "name": "TipoMotor",
         "type": "\"integer\""
        },
        {
         "metadata": "{}",
         "name": "Transmissao",
         "type": "\"integer\""
        },
        {
         "metadata": "{}",
         "name": "Marchas",
         "type": "\"integer\""
        },
        {
         "metadata": "{}",
         "name": "Carburadors",
         "type": "\"integer\""
        },
        {
         "metadata": "{}",
         "name": "HP",
         "type": "\"integer\""
        }
       ],
       "type": "table"
      }
     },
     "output_type": "display_data"
    }
   ],
   "source": [
    "%sql\n",
    "SELECT * FROM carros"
   ]
  },
  {
   "cell_type": "code",
   "execution_count": 0,
   "metadata": {
    "application/vnd.databricks.v1+cell": {
     "cellMetadata": {
      "byteLimit": 2048000,
      "rowLimit": 10000
     },
     "inputWidgets": {},
     "nuid": "d150a8d3-cefc-43a0-9008-a1b87799216f",
     "showTitle": false,
     "title": ""
    }
   },
   "outputs": [],
   "source": [
    "from pyspark.sql.functions import col, when\n",
    "carros_df = spark.table(\"carros\")\n",
    "carros_df.write.format(\"delta\").save(\"/tmp/carros_delta\")"
   ]
  },
  {
   "cell_type": "code",
   "execution_count": 0,
   "metadata": {
    "application/vnd.databricks.v1+cell": {
     "cellMetadata": {
      "byteLimit": 2048000,
      "rowLimit": 10000
     },
     "inputWidgets": {},
     "nuid": "ba53a25f-5549-4cfd-aefb-64fd805acaef",
     "showTitle": false,
     "title": ""
    }
   },
   "outputs": [
    {
     "output_type": "display_data",
     "data": {
      "text/html": [
       "<style scoped>\n",
       "  .table-result-container {\n",
       "    max-height: 300px;\n",
       "    overflow: auto;\n",
       "  }\n",
       "  table, th, td {\n",
       "    border: 1px solid black;\n",
       "    border-collapse: collapse;\n",
       "  }\n",
       "  th, td {\n",
       "    padding: 5px;\n",
       "  }\n",
       "  th {\n",
       "    text-align: left;\n",
       "  }\n",
       "</style><div class='table-result-container'><table class='table-result'><thead style='background-color: white'><tr><th>path</th><th>name</th><th>size</th><th>modificationTime</th></tr></thead><tbody><tr><td>dbfs:/tmp/carros_delta/_delta_log/</td><td>_delta_log/</td><td>0</td><td>0</td></tr><tr><td>dbfs:/tmp/carros_delta/part-00000-ff64df64-4c7f-47b5-8c33-751e48f2ae84-c000.snappy.parquet</td><td>part-00000-ff64df64-4c7f-47b5-8c33-751e48f2ae84-c000.snappy.parquet</td><td>3923</td><td>1711980877000</td></tr></tbody></table></div>"
      ]
     },
     "metadata": {
      "application/vnd.databricks.v1+output": {
       "addedWidgets": {},
       "aggData": [],
       "aggError": "",
       "aggOverflow": false,
       "aggSchema": [],
       "aggSeriesLimitReached": false,
       "aggType": "",
       "arguments": {},
       "columnCustomDisplayInfos": {},
       "data": [
        [
         "dbfs:/tmp/carros_delta/_delta_log/",
         "_delta_log/",
         0,
         0
        ],
        [
         "dbfs:/tmp/carros_delta/part-00000-ff64df64-4c7f-47b5-8c33-751e48f2ae84-c000.snappy.parquet",
         "part-00000-ff64df64-4c7f-47b5-8c33-751e48f2ae84-c000.snappy.parquet",
         3923,
         1711980877000
        ]
       ],
       "datasetInfos": [],
       "dbfsResultPath": null,
       "isJsonSchema": true,
       "metadata": {
        "isDbfsCommandResult": false
       },
       "overflow": false,
       "plotOptions": {
        "customPlotOptions": {},
        "displayType": "table",
        "pivotAggregation": null,
        "pivotColumns": null,
        "xColumns": null,
        "yColumns": null
       },
       "removedWidgets": [],
       "schema": [
        {
         "metadata": "{}",
         "name": "path",
         "type": "\"string\""
        },
        {
         "metadata": "{}",
         "name": "name",
         "type": "\"string\""
        },
        {
         "metadata": "{}",
         "name": "size",
         "type": "\"long\""
        },
        {
         "metadata": "{}",
         "name": "modificationTime",
         "type": "\"long\""
        }
       ],
       "type": "table"
      }
     },
     "output_type": "display_data"
    }
   ],
   "source": [
    "%fs ls /tmp/carros_delta"
   ]
  },
  {
   "cell_type": "code",
   "execution_count": 0,
   "metadata": {
    "application/vnd.databricks.v1+cell": {
     "cellMetadata": {
      "byteLimit": 2048000,
      "rowLimit": 10000
     },
     "inputWidgets": {},
     "nuid": "11261969-fc6f-488f-a46b-0bbedc6c2234",
     "showTitle": false,
     "title": ""
    }
   },
   "outputs": [
    {
     "output_type": "display_data",
     "data": {
      "text/html": [
       "<style scoped>\n",
       "  .table-result-container {\n",
       "    max-height: 300px;\n",
       "    overflow: auto;\n",
       "  }\n",
       "  table, th, td {\n",
       "    border: 1px solid black;\n",
       "    border-collapse: collapse;\n",
       "  }\n",
       "  th, td {\n",
       "    padding: 5px;\n",
       "  }\n",
       "  th {\n",
       "    text-align: left;\n",
       "  }\n",
       "</style><div class='table-result-container'><table class='table-result'><thead style='background-color: white'><tr><th>Consumo</th><th>Cilindros</th><th>Cilindradas</th><th>RelEixoTraseiro</th><th>Peso</th><th>Tempo</th><th>TipoMotor</th><th>Transmissao</th><th>Marchas</th><th>Carburadors</th><th>HP</th></tr></thead><tbody><tr><td>21</td><td>6</td><td>160</td><td>39</td><td>262</td><td>1646</td><td>0</td><td>1</td><td>4</td><td>4</td><td>110</td></tr><tr><td>21</td><td>6</td><td>160</td><td>39</td><td>2875</td><td>1702</td><td>0</td><td>1</td><td>4</td><td>4</td><td>110</td></tr><tr><td>228</td><td>4</td><td>108</td><td>385</td><td>232</td><td>1861</td><td>1</td><td>1</td><td>4</td><td>1</td><td>93</td></tr><tr><td>214</td><td>6</td><td>258</td><td>308</td><td>3215</td><td>1944</td><td>1</td><td>0</td><td>3</td><td>1</td><td>110</td></tr><tr><td>187</td><td>8</td><td>360</td><td>315</td><td>344</td><td>1702</td><td>0</td><td>0</td><td>3</td><td>2</td><td>175</td></tr><tr><td>181</td><td>6</td><td>225</td><td>276</td><td>346</td><td>2022</td><td>1</td><td>0</td><td>3</td><td>1</td><td>105</td></tr><tr><td>143</td><td>8</td><td>360</td><td>321</td><td>357</td><td>1584</td><td>0</td><td>0</td><td>3</td><td>4</td><td>245</td></tr><tr><td>244</td><td>4</td><td>1467</td><td>369</td><td>319</td><td>20</td><td>1</td><td>0</td><td>4</td><td>2</td><td>62</td></tr><tr><td>228</td><td>4</td><td>1408</td><td>392</td><td>315</td><td>229</td><td>1</td><td>0</td><td>4</td><td>2</td><td>95</td></tr><tr><td>192</td><td>6</td><td>1676</td><td>392</td><td>344</td><td>183</td><td>1</td><td>0</td><td>4</td><td>4</td><td>123</td></tr><tr><td>178</td><td>6</td><td>1676</td><td>392</td><td>344</td><td>189</td><td>1</td><td>0</td><td>4</td><td>4</td><td>123</td></tr><tr><td>164</td><td>8</td><td>2758</td><td>307</td><td>407</td><td>174</td><td>0</td><td>0</td><td>3</td><td>3</td><td>180</td></tr><tr><td>173</td><td>8</td><td>2758</td><td>307</td><td>373</td><td>176</td><td>0</td><td>0</td><td>3</td><td>3</td><td>180</td></tr><tr><td>152</td><td>8</td><td>2758</td><td>307</td><td>378</td><td>18</td><td>0</td><td>0</td><td>3</td><td>3</td><td>180</td></tr><tr><td>104</td><td>8</td><td>472</td><td>293</td><td>525</td><td>1798</td><td>0</td><td>0</td><td>3</td><td>4</td><td>205</td></tr><tr><td>104</td><td>8</td><td>460</td><td>3</td><td>5424</td><td>1782</td><td>0</td><td>0</td><td>3</td><td>4</td><td>215</td></tr><tr><td>147</td><td>8</td><td>440</td><td>323</td><td>5345</td><td>1742</td><td>0</td><td>0</td><td>3</td><td>4</td><td>230</td></tr><tr><td>324</td><td>4</td><td>787</td><td>408</td><td>22</td><td>1947</td><td>1</td><td>1</td><td>4</td><td>1</td><td>66</td></tr><tr><td>304</td><td>4</td><td>757</td><td>493</td><td>1615</td><td>1852</td><td>1</td><td>1</td><td>4</td><td>2</td><td>52</td></tr><tr><td>339</td><td>4</td><td>711</td><td>422</td><td>1835</td><td>199</td><td>1</td><td>1</td><td>4</td><td>1</td><td>65</td></tr><tr><td>215</td><td>4</td><td>1201</td><td>37</td><td>2465</td><td>2001</td><td>1</td><td>0</td><td>3</td><td>1</td><td>97</td></tr><tr><td>155</td><td>8</td><td>318</td><td>276</td><td>352</td><td>1687</td><td>0</td><td>0</td><td>3</td><td>2</td><td>150</td></tr><tr><td>152</td><td>8</td><td>304</td><td>315</td><td>3435</td><td>173</td><td>0</td><td>0</td><td>3</td><td>2</td><td>150</td></tr><tr><td>133</td><td>8</td><td>350</td><td>373</td><td>384</td><td>1541</td><td>0</td><td>0</td><td>3</td><td>4</td><td>245</td></tr><tr><td>192</td><td>8</td><td>400</td><td>308</td><td>3845</td><td>1705</td><td>0</td><td>0</td><td>3</td><td>2</td><td>175</td></tr><tr><td>273</td><td>4</td><td>79</td><td>408</td><td>1935</td><td>189</td><td>1</td><td>1</td><td>4</td><td>1</td><td>66</td></tr><tr><td>26</td><td>4</td><td>1203</td><td>443</td><td>214</td><td>167</td><td>0</td><td>1</td><td>5</td><td>2</td><td>91</td></tr><tr><td>304</td><td>4</td><td>951</td><td>377</td><td>1513</td><td>169</td><td>1</td><td>1</td><td>5</td><td>2</td><td>113</td></tr><tr><td>158</td><td>8</td><td>351</td><td>422</td><td>317</td><td>145</td><td>0</td><td>1</td><td>5</td><td>4</td><td>264</td></tr><tr><td>197</td><td>6</td><td>145</td><td>362</td><td>277</td><td>155</td><td>0</td><td>1</td><td>5</td><td>6</td><td>175</td></tr><tr><td>15</td><td>8</td><td>301</td><td>354</td><td>357</td><td>146</td><td>0</td><td>1</td><td>5</td><td>8</td><td>335</td></tr><tr><td>214</td><td>4</td><td>121</td><td>411</td><td>278</td><td>186</td><td>1</td><td>1</td><td>4</td><td>2</td><td>109</td></tr></tbody></table></div>"
      ]
     },
     "metadata": {
      "application/vnd.databricks.v1+output": {
       "addedWidgets": {},
       "aggData": [],
       "aggError": "",
       "aggOverflow": false,
       "aggSchema": [],
       "aggSeriesLimitReached": false,
       "aggType": "",
       "arguments": {},
       "columnCustomDisplayInfos": {},
       "data": [
        [
         21,
         6,
         160,
         39,
         262,
         1646,
         0,
         1,
         4,
         4,
         110
        ],
        [
         21,
         6,
         160,
         39,
         2875,
         1702,
         0,
         1,
         4,
         4,
         110
        ],
        [
         228,
         4,
         108,
         385,
         232,
         1861,
         1,
         1,
         4,
         1,
         93
        ],
        [
         214,
         6,
         258,
         308,
         3215,
         1944,
         1,
         0,
         3,
         1,
         110
        ],
        [
         187,
         8,
         360,
         315,
         344,
         1702,
         0,
         0,
         3,
         2,
         175
        ],
        [
         181,
         6,
         225,
         276,
         346,
         2022,
         1,
         0,
         3,
         1,
         105
        ],
        [
         143,
         8,
         360,
         321,
         357,
         1584,
         0,
         0,
         3,
         4,
         245
        ],
        [
         244,
         4,
         1467,
         369,
         319,
         20,
         1,
         0,
         4,
         2,
         62
        ],
        [
         228,
         4,
         1408,
         392,
         315,
         229,
         1,
         0,
         4,
         2,
         95
        ],
        [
         192,
         6,
         1676,
         392,
         344,
         183,
         1,
         0,
         4,
         4,
         123
        ],
        [
         178,
         6,
         1676,
         392,
         344,
         189,
         1,
         0,
         4,
         4,
         123
        ],
        [
         164,
         8,
         2758,
         307,
         407,
         174,
         0,
         0,
         3,
         3,
         180
        ],
        [
         173,
         8,
         2758,
         307,
         373,
         176,
         0,
         0,
         3,
         3,
         180
        ],
        [
         152,
         8,
         2758,
         307,
         378,
         18,
         0,
         0,
         3,
         3,
         180
        ],
        [
         104,
         8,
         472,
         293,
         525,
         1798,
         0,
         0,
         3,
         4,
         205
        ],
        [
         104,
         8,
         460,
         3,
         5424,
         1782,
         0,
         0,
         3,
         4,
         215
        ],
        [
         147,
         8,
         440,
         323,
         5345,
         1742,
         0,
         0,
         3,
         4,
         230
        ],
        [
         324,
         4,
         787,
         408,
         22,
         1947,
         1,
         1,
         4,
         1,
         66
        ],
        [
         304,
         4,
         757,
         493,
         1615,
         1852,
         1,
         1,
         4,
         2,
         52
        ],
        [
         339,
         4,
         711,
         422,
         1835,
         199,
         1,
         1,
         4,
         1,
         65
        ],
        [
         215,
         4,
         1201,
         37,
         2465,
         2001,
         1,
         0,
         3,
         1,
         97
        ],
        [
         155,
         8,
         318,
         276,
         352,
         1687,
         0,
         0,
         3,
         2,
         150
        ],
        [
         152,
         8,
         304,
         315,
         3435,
         173,
         0,
         0,
         3,
         2,
         150
        ],
        [
         133,
         8,
         350,
         373,
         384,
         1541,
         0,
         0,
         3,
         4,
         245
        ],
        [
         192,
         8,
         400,
         308,
         3845,
         1705,
         0,
         0,
         3,
         2,
         175
        ],
        [
         273,
         4,
         79,
         408,
         1935,
         189,
         1,
         1,
         4,
         1,
         66
        ],
        [
         26,
         4,
         1203,
         443,
         214,
         167,
         0,
         1,
         5,
         2,
         91
        ],
        [
         304,
         4,
         951,
         377,
         1513,
         169,
         1,
         1,
         5,
         2,
         113
        ],
        [
         158,
         8,
         351,
         422,
         317,
         145,
         0,
         1,
         5,
         4,
         264
        ],
        [
         197,
         6,
         145,
         362,
         277,
         155,
         0,
         1,
         5,
         6,
         175
        ],
        [
         15,
         8,
         301,
         354,
         357,
         146,
         0,
         1,
         5,
         8,
         335
        ],
        [
         214,
         4,
         121,
         411,
         278,
         186,
         1,
         1,
         4,
         2,
         109
        ]
       ],
       "datasetInfos": [],
       "dbfsResultPath": null,
       "isJsonSchema": true,
       "metadata": {},
       "overflow": false,
       "plotOptions": {
        "customPlotOptions": {},
        "displayType": "table",
        "pivotAggregation": null,
        "pivotColumns": null,
        "xColumns": null,
        "yColumns": null
       },
       "removedWidgets": [],
       "schema": [
        {
         "metadata": "{}",
         "name": "Consumo",
         "type": "\"integer\""
        },
        {
         "metadata": "{}",
         "name": "Cilindros",
         "type": "\"integer\""
        },
        {
         "metadata": "{}",
         "name": "Cilindradas",
         "type": "\"integer\""
        },
        {
         "metadata": "{}",
         "name": "RelEixoTraseiro",
         "type": "\"integer\""
        },
        {
         "metadata": "{}",
         "name": "Peso",
         "type": "\"integer\""
        },
        {
         "metadata": "{}",
         "name": "Tempo",
         "type": "\"integer\""
        },
        {
         "metadata": "{}",
         "name": "TipoMotor",
         "type": "\"integer\""
        },
        {
         "metadata": "{}",
         "name": "Transmissao",
         "type": "\"integer\""
        },
        {
         "metadata": "{}",
         "name": "Marchas",
         "type": "\"integer\""
        },
        {
         "metadata": "{}",
         "name": "Carburadors",
         "type": "\"integer\""
        },
        {
         "metadata": "{}",
         "name": "HP",
         "type": "\"integer\""
        }
       ],
       "type": "table"
      }
     },
     "output_type": "display_data"
    }
   ],
   "source": [
    "delta_df = spark.read.format(\"delta\").load(\"/tmp/carros_delta\")\n",
    "delta_df.display()"
   ]
  },
  {
   "cell_type": "code",
   "execution_count": 0,
   "metadata": {
    "application/vnd.databricks.v1+cell": {
     "cellMetadata": {
      "byteLimit": 2048000,
      "rowLimit": 10000
     },
     "inputWidgets": {},
     "nuid": "597d68c2-f20a-43c9-b260-678be25d8149",
     "showTitle": false,
     "title": ""
    }
   },
   "outputs": [],
   "source": [
    "#atualiza tipo do motor\n",
    "delta_df = delta_df.withColumn(\"TipoMotor\", when(col(\"TipoMotor\") == 0 ,2).otherwise(col(\"TipoMotor\")))"
   ]
  },
  {
   "cell_type": "code",
   "execution_count": 0,
   "metadata": {
    "application/vnd.databricks.v1+cell": {
     "cellMetadata": {
      "byteLimit": 2048000,
      "rowLimit": 10000
     },
     "inputWidgets": {},
     "nuid": "1baef944-d408-4d73-964e-e32e837b28ae",
     "showTitle": false,
     "title": ""
    }
   },
   "outputs": [
    {
     "output_type": "display_data",
     "data": {
      "text/html": [
       "<style scoped>\n",
       "  .table-result-container {\n",
       "    max-height: 300px;\n",
       "    overflow: auto;\n",
       "  }\n",
       "  table, th, td {\n",
       "    border: 1px solid black;\n",
       "    border-collapse: collapse;\n",
       "  }\n",
       "  th, td {\n",
       "    padding: 5px;\n",
       "  }\n",
       "  th {\n",
       "    text-align: left;\n",
       "  }\n",
       "</style><div class='table-result-container'><table class='table-result'><thead style='background-color: white'><tr><th>Consumo</th><th>Cilindros</th><th>Cilindradas</th><th>RelEixoTraseiro</th><th>Peso</th><th>Tempo</th><th>TipoMotor</th><th>Transmissao</th><th>Marchas</th><th>Carburadors</th><th>HP</th></tr></thead><tbody><tr><td>21</td><td>6</td><td>160</td><td>39</td><td>262</td><td>1646</td><td>2</td><td>1</td><td>4</td><td>4</td><td>110</td></tr><tr><td>21</td><td>6</td><td>160</td><td>39</td><td>2875</td><td>1702</td><td>2</td><td>1</td><td>4</td><td>4</td><td>110</td></tr><tr><td>228</td><td>4</td><td>108</td><td>385</td><td>232</td><td>1861</td><td>1</td><td>1</td><td>4</td><td>1</td><td>93</td></tr><tr><td>214</td><td>6</td><td>258</td><td>308</td><td>3215</td><td>1944</td><td>1</td><td>0</td><td>3</td><td>1</td><td>110</td></tr><tr><td>187</td><td>8</td><td>360</td><td>315</td><td>344</td><td>1702</td><td>2</td><td>0</td><td>3</td><td>2</td><td>175</td></tr><tr><td>181</td><td>6</td><td>225</td><td>276</td><td>346</td><td>2022</td><td>1</td><td>0</td><td>3</td><td>1</td><td>105</td></tr><tr><td>143</td><td>8</td><td>360</td><td>321</td><td>357</td><td>1584</td><td>2</td><td>0</td><td>3</td><td>4</td><td>245</td></tr><tr><td>244</td><td>4</td><td>1467</td><td>369</td><td>319</td><td>20</td><td>1</td><td>0</td><td>4</td><td>2</td><td>62</td></tr><tr><td>228</td><td>4</td><td>1408</td><td>392</td><td>315</td><td>229</td><td>1</td><td>0</td><td>4</td><td>2</td><td>95</td></tr><tr><td>192</td><td>6</td><td>1676</td><td>392</td><td>344</td><td>183</td><td>1</td><td>0</td><td>4</td><td>4</td><td>123</td></tr><tr><td>178</td><td>6</td><td>1676</td><td>392</td><td>344</td><td>189</td><td>1</td><td>0</td><td>4</td><td>4</td><td>123</td></tr><tr><td>164</td><td>8</td><td>2758</td><td>307</td><td>407</td><td>174</td><td>2</td><td>0</td><td>3</td><td>3</td><td>180</td></tr><tr><td>173</td><td>8</td><td>2758</td><td>307</td><td>373</td><td>176</td><td>2</td><td>0</td><td>3</td><td>3</td><td>180</td></tr><tr><td>152</td><td>8</td><td>2758</td><td>307</td><td>378</td><td>18</td><td>2</td><td>0</td><td>3</td><td>3</td><td>180</td></tr><tr><td>104</td><td>8</td><td>472</td><td>293</td><td>525</td><td>1798</td><td>2</td><td>0</td><td>3</td><td>4</td><td>205</td></tr><tr><td>104</td><td>8</td><td>460</td><td>3</td><td>5424</td><td>1782</td><td>2</td><td>0</td><td>3</td><td>4</td><td>215</td></tr><tr><td>147</td><td>8</td><td>440</td><td>323</td><td>5345</td><td>1742</td><td>2</td><td>0</td><td>3</td><td>4</td><td>230</td></tr><tr><td>324</td><td>4</td><td>787</td><td>408</td><td>22</td><td>1947</td><td>1</td><td>1</td><td>4</td><td>1</td><td>66</td></tr><tr><td>304</td><td>4</td><td>757</td><td>493</td><td>1615</td><td>1852</td><td>1</td><td>1</td><td>4</td><td>2</td><td>52</td></tr><tr><td>339</td><td>4</td><td>711</td><td>422</td><td>1835</td><td>199</td><td>1</td><td>1</td><td>4</td><td>1</td><td>65</td></tr><tr><td>215</td><td>4</td><td>1201</td><td>37</td><td>2465</td><td>2001</td><td>1</td><td>0</td><td>3</td><td>1</td><td>97</td></tr><tr><td>155</td><td>8</td><td>318</td><td>276</td><td>352</td><td>1687</td><td>2</td><td>0</td><td>3</td><td>2</td><td>150</td></tr><tr><td>152</td><td>8</td><td>304</td><td>315</td><td>3435</td><td>173</td><td>2</td><td>0</td><td>3</td><td>2</td><td>150</td></tr><tr><td>133</td><td>8</td><td>350</td><td>373</td><td>384</td><td>1541</td><td>2</td><td>0</td><td>3</td><td>4</td><td>245</td></tr><tr><td>192</td><td>8</td><td>400</td><td>308</td><td>3845</td><td>1705</td><td>2</td><td>0</td><td>3</td><td>2</td><td>175</td></tr><tr><td>273</td><td>4</td><td>79</td><td>408</td><td>1935</td><td>189</td><td>1</td><td>1</td><td>4</td><td>1</td><td>66</td></tr><tr><td>26</td><td>4</td><td>1203</td><td>443</td><td>214</td><td>167</td><td>2</td><td>1</td><td>5</td><td>2</td><td>91</td></tr><tr><td>304</td><td>4</td><td>951</td><td>377</td><td>1513</td><td>169</td><td>1</td><td>1</td><td>5</td><td>2</td><td>113</td></tr><tr><td>158</td><td>8</td><td>351</td><td>422</td><td>317</td><td>145</td><td>2</td><td>1</td><td>5</td><td>4</td><td>264</td></tr><tr><td>197</td><td>6</td><td>145</td><td>362</td><td>277</td><td>155</td><td>2</td><td>1</td><td>5</td><td>6</td><td>175</td></tr><tr><td>15</td><td>8</td><td>301</td><td>354</td><td>357</td><td>146</td><td>2</td><td>1</td><td>5</td><td>8</td><td>335</td></tr><tr><td>214</td><td>4</td><td>121</td><td>411</td><td>278</td><td>186</td><td>1</td><td>1</td><td>4</td><td>2</td><td>109</td></tr></tbody></table></div>"
      ]
     },
     "metadata": {
      "application/vnd.databricks.v1+output": {
       "addedWidgets": {},
       "aggData": [],
       "aggError": "",
       "aggOverflow": false,
       "aggSchema": [],
       "aggSeriesLimitReached": false,
       "aggType": "",
       "arguments": {},
       "columnCustomDisplayInfos": {},
       "data": [
        [
         21,
         6,
         160,
         39,
         262,
         1646,
         2,
         1,
         4,
         4,
         110
        ],
        [
         21,
         6,
         160,
         39,
         2875,
         1702,
         2,
         1,
         4,
         4,
         110
        ],
        [
         228,
         4,
         108,
         385,
         232,
         1861,
         1,
         1,
         4,
         1,
         93
        ],
        [
         214,
         6,
         258,
         308,
         3215,
         1944,
         1,
         0,
         3,
         1,
         110
        ],
        [
         187,
         8,
         360,
         315,
         344,
         1702,
         2,
         0,
         3,
         2,
         175
        ],
        [
         181,
         6,
         225,
         276,
         346,
         2022,
         1,
         0,
         3,
         1,
         105
        ],
        [
         143,
         8,
         360,
         321,
         357,
         1584,
         2,
         0,
         3,
         4,
         245
        ],
        [
         244,
         4,
         1467,
         369,
         319,
         20,
         1,
         0,
         4,
         2,
         62
        ],
        [
         228,
         4,
         1408,
         392,
         315,
         229,
         1,
         0,
         4,
         2,
         95
        ],
        [
         192,
         6,
         1676,
         392,
         344,
         183,
         1,
         0,
         4,
         4,
         123
        ],
        [
         178,
         6,
         1676,
         392,
         344,
         189,
         1,
         0,
         4,
         4,
         123
        ],
        [
         164,
         8,
         2758,
         307,
         407,
         174,
         2,
         0,
         3,
         3,
         180
        ],
        [
         173,
         8,
         2758,
         307,
         373,
         176,
         2,
         0,
         3,
         3,
         180
        ],
        [
         152,
         8,
         2758,
         307,
         378,
         18,
         2,
         0,
         3,
         3,
         180
        ],
        [
         104,
         8,
         472,
         293,
         525,
         1798,
         2,
         0,
         3,
         4,
         205
        ],
        [
         104,
         8,
         460,
         3,
         5424,
         1782,
         2,
         0,
         3,
         4,
         215
        ],
        [
         147,
         8,
         440,
         323,
         5345,
         1742,
         2,
         0,
         3,
         4,
         230
        ],
        [
         324,
         4,
         787,
         408,
         22,
         1947,
         1,
         1,
         4,
         1,
         66
        ],
        [
         304,
         4,
         757,
         493,
         1615,
         1852,
         1,
         1,
         4,
         2,
         52
        ],
        [
         339,
         4,
         711,
         422,
         1835,
         199,
         1,
         1,
         4,
         1,
         65
        ],
        [
         215,
         4,
         1201,
         37,
         2465,
         2001,
         1,
         0,
         3,
         1,
         97
        ],
        [
         155,
         8,
         318,
         276,
         352,
         1687,
         2,
         0,
         3,
         2,
         150
        ],
        [
         152,
         8,
         304,
         315,
         3435,
         173,
         2,
         0,
         3,
         2,
         150
        ],
        [
         133,
         8,
         350,
         373,
         384,
         1541,
         2,
         0,
         3,
         4,
         245
        ],
        [
         192,
         8,
         400,
         308,
         3845,
         1705,
         2,
         0,
         3,
         2,
         175
        ],
        [
         273,
         4,
         79,
         408,
         1935,
         189,
         1,
         1,
         4,
         1,
         66
        ],
        [
         26,
         4,
         1203,
         443,
         214,
         167,
         2,
         1,
         5,
         2,
         91
        ],
        [
         304,
         4,
         951,
         377,
         1513,
         169,
         1,
         1,
         5,
         2,
         113
        ],
        [
         158,
         8,
         351,
         422,
         317,
         145,
         2,
         1,
         5,
         4,
         264
        ],
        [
         197,
         6,
         145,
         362,
         277,
         155,
         2,
         1,
         5,
         6,
         175
        ],
        [
         15,
         8,
         301,
         354,
         357,
         146,
         2,
         1,
         5,
         8,
         335
        ],
        [
         214,
         4,
         121,
         411,
         278,
         186,
         1,
         1,
         4,
         2,
         109
        ]
       ],
       "datasetInfos": [],
       "dbfsResultPath": null,
       "isJsonSchema": true,
       "metadata": {},
       "overflow": false,
       "plotOptions": {
        "customPlotOptions": {},
        "displayType": "table",
        "pivotAggregation": null,
        "pivotColumns": null,
        "xColumns": null,
        "yColumns": null
       },
       "removedWidgets": [],
       "schema": [
        {
         "metadata": "{}",
         "name": "Consumo",
         "type": "\"integer\""
        },
        {
         "metadata": "{}",
         "name": "Cilindros",
         "type": "\"integer\""
        },
        {
         "metadata": "{}",
         "name": "Cilindradas",
         "type": "\"integer\""
        },
        {
         "metadata": "{}",
         "name": "RelEixoTraseiro",
         "type": "\"integer\""
        },
        {
         "metadata": "{}",
         "name": "Peso",
         "type": "\"integer\""
        },
        {
         "metadata": "{}",
         "name": "Tempo",
         "type": "\"integer\""
        },
        {
         "metadata": "{}",
         "name": "TipoMotor",
         "type": "\"integer\""
        },
        {
         "metadata": "{}",
         "name": "Transmissao",
         "type": "\"integer\""
        },
        {
         "metadata": "{}",
         "name": "Marchas",
         "type": "\"integer\""
        },
        {
         "metadata": "{}",
         "name": "Carburadors",
         "type": "\"integer\""
        },
        {
         "metadata": "{}",
         "name": "HP",
         "type": "\"integer\""
        }
       ],
       "type": "table"
      }
     },
     "output_type": "display_data"
    }
   ],
   "source": [
    "delta_df.display()"
   ]
  },
  {
   "cell_type": "code",
   "execution_count": 0,
   "metadata": {
    "application/vnd.databricks.v1+cell": {
     "cellMetadata": {
      "byteLimit": 2048000,
      "rowLimit": 10000
     },
     "inputWidgets": {},
     "nuid": "6b1b13eb-ad6a-4652-b4f6-6cdba6f16593",
     "showTitle": false,
     "title": ""
    }
   },
   "outputs": [
    {
     "output_type": "display_data",
     "data": {
      "text/html": [
       "<style scoped>\n",
       "  .table-result-container {\n",
       "    max-height: 300px;\n",
       "    overflow: auto;\n",
       "  }\n",
       "  table, th, td {\n",
       "    border: 1px solid black;\n",
       "    border-collapse: collapse;\n",
       "  }\n",
       "  th, td {\n",
       "    padding: 5px;\n",
       "  }\n",
       "  th {\n",
       "    text-align: left;\n",
       "  }\n",
       "</style><div class='table-result-container'><table class='table-result'><thead style='background-color: white'><tr><th>Consumo</th><th>Cilindros</th><th>Cilindradas</th><th>RelEixoTraseiro</th><th>Peso</th><th>Tempo</th><th>TipoMotor</th><th>Transmissao</th><th>Marchas</th><th>Carburadors</th><th>HP</th></tr></thead><tbody><tr><td>21</td><td>6</td><td>160</td><td>39</td><td>262</td><td>1646</td><td>2</td><td>1</td><td>4</td><td>4</td><td>110</td></tr><tr><td>21</td><td>6</td><td>160</td><td>39</td><td>2875</td><td>1702</td><td>2</td><td>1</td><td>4</td><td>4</td><td>110</td></tr><tr><td>228</td><td>4</td><td>108</td><td>385</td><td>232</td><td>1861</td><td>1</td><td>1</td><td>4</td><td>1</td><td>93</td></tr><tr><td>214</td><td>6</td><td>258</td><td>308</td><td>3215</td><td>1944</td><td>1</td><td>0</td><td>3</td><td>1</td><td>110</td></tr><tr><td>187</td><td>8</td><td>360</td><td>315</td><td>344</td><td>1702</td><td>2</td><td>0</td><td>3</td><td>2</td><td>175</td></tr><tr><td>181</td><td>6</td><td>225</td><td>276</td><td>346</td><td>2022</td><td>1</td><td>0</td><td>3</td><td>1</td><td>105</td></tr><tr><td>143</td><td>8</td><td>360</td><td>321</td><td>357</td><td>1584</td><td>2</td><td>0</td><td>3</td><td>4</td><td>245</td></tr><tr><td>244</td><td>4</td><td>1467</td><td>369</td><td>319</td><td>20</td><td>1</td><td>0</td><td>4</td><td>2</td><td>62</td></tr><tr><td>228</td><td>4</td><td>1408</td><td>392</td><td>315</td><td>229</td><td>1</td><td>0</td><td>4</td><td>2</td><td>95</td></tr><tr><td>192</td><td>6</td><td>1676</td><td>392</td><td>344</td><td>183</td><td>1</td><td>0</td><td>4</td><td>4</td><td>123</td></tr><tr><td>178</td><td>6</td><td>1676</td><td>392</td><td>344</td><td>189</td><td>1</td><td>0</td><td>4</td><td>4</td><td>123</td></tr><tr><td>164</td><td>8</td><td>2758</td><td>307</td><td>407</td><td>174</td><td>2</td><td>0</td><td>3</td><td>3</td><td>180</td></tr><tr><td>173</td><td>8</td><td>2758</td><td>307</td><td>373</td><td>176</td><td>2</td><td>0</td><td>3</td><td>3</td><td>180</td></tr><tr><td>152</td><td>8</td><td>2758</td><td>307</td><td>378</td><td>18</td><td>2</td><td>0</td><td>3</td><td>3</td><td>180</td></tr><tr><td>104</td><td>8</td><td>472</td><td>293</td><td>525</td><td>1798</td><td>2</td><td>0</td><td>3</td><td>4</td><td>205</td></tr><tr><td>104</td><td>8</td><td>460</td><td>3</td><td>5424</td><td>1782</td><td>2</td><td>0</td><td>3</td><td>4</td><td>215</td></tr><tr><td>147</td><td>8</td><td>440</td><td>323</td><td>5345</td><td>1742</td><td>2</td><td>0</td><td>3</td><td>4</td><td>230</td></tr><tr><td>324</td><td>4</td><td>787</td><td>408</td><td>22</td><td>1947</td><td>1</td><td>1</td><td>4</td><td>1</td><td>66</td></tr><tr><td>304</td><td>4</td><td>757</td><td>493</td><td>1615</td><td>1852</td><td>1</td><td>1</td><td>4</td><td>2</td><td>52</td></tr><tr><td>339</td><td>4</td><td>711</td><td>422</td><td>1835</td><td>199</td><td>1</td><td>1</td><td>4</td><td>1</td><td>65</td></tr><tr><td>215</td><td>4</td><td>1201</td><td>37</td><td>2465</td><td>2001</td><td>1</td><td>0</td><td>3</td><td>1</td><td>97</td></tr><tr><td>155</td><td>8</td><td>318</td><td>276</td><td>352</td><td>1687</td><td>2</td><td>0</td><td>3</td><td>2</td><td>150</td></tr><tr><td>152</td><td>8</td><td>304</td><td>315</td><td>3435</td><td>173</td><td>2</td><td>0</td><td>3</td><td>2</td><td>150</td></tr><tr><td>133</td><td>8</td><td>350</td><td>373</td><td>384</td><td>1541</td><td>2</td><td>0</td><td>3</td><td>4</td><td>245</td></tr><tr><td>192</td><td>8</td><td>400</td><td>308</td><td>3845</td><td>1705</td><td>2</td><td>0</td><td>3</td><td>2</td><td>175</td></tr><tr><td>273</td><td>4</td><td>79</td><td>408</td><td>1935</td><td>189</td><td>1</td><td>1</td><td>4</td><td>1</td><td>66</td></tr><tr><td>26</td><td>4</td><td>1203</td><td>443</td><td>214</td><td>167</td><td>2</td><td>1</td><td>5</td><td>2</td><td>91</td></tr><tr><td>304</td><td>4</td><td>951</td><td>377</td><td>1513</td><td>169</td><td>1</td><td>1</td><td>5</td><td>2</td><td>113</td></tr><tr><td>158</td><td>8</td><td>351</td><td>422</td><td>317</td><td>145</td><td>2</td><td>1</td><td>5</td><td>4</td><td>264</td></tr><tr><td>197</td><td>6</td><td>145</td><td>362</td><td>277</td><td>155</td><td>2</td><td>1</td><td>5</td><td>6</td><td>175</td></tr><tr><td>15</td><td>8</td><td>301</td><td>354</td><td>357</td><td>146</td><td>2</td><td>1</td><td>5</td><td>8</td><td>335</td></tr><tr><td>214</td><td>4</td><td>121</td><td>411</td><td>278</td><td>186</td><td>1</td><td>1</td><td>4</td><td>2</td><td>109</td></tr></tbody></table></div>"
      ]
     },
     "metadata": {
      "application/vnd.databricks.v1+output": {
       "addedWidgets": {},
       "aggData": [],
       "aggError": "",
       "aggOverflow": false,
       "aggSchema": [],
       "aggSeriesLimitReached": false,
       "aggType": "",
       "arguments": {},
       "columnCustomDisplayInfos": {},
       "data": [
        [
         21,
         6,
         160,
         39,
         262,
         1646,
         2,
         1,
         4,
         4,
         110
        ],
        [
         21,
         6,
         160,
         39,
         2875,
         1702,
         2,
         1,
         4,
         4,
         110
        ],
        [
         228,
         4,
         108,
         385,
         232,
         1861,
         1,
         1,
         4,
         1,
         93
        ],
        [
         214,
         6,
         258,
         308,
         3215,
         1944,
         1,
         0,
         3,
         1,
         110
        ],
        [
         187,
         8,
         360,
         315,
         344,
         1702,
         2,
         0,
         3,
         2,
         175
        ],
        [
         181,
         6,
         225,
         276,
         346,
         2022,
         1,
         0,
         3,
         1,
         105
        ],
        [
         143,
         8,
         360,
         321,
         357,
         1584,
         2,
         0,
         3,
         4,
         245
        ],
        [
         244,
         4,
         1467,
         369,
         319,
         20,
         1,
         0,
         4,
         2,
         62
        ],
        [
         228,
         4,
         1408,
         392,
         315,
         229,
         1,
         0,
         4,
         2,
         95
        ],
        [
         192,
         6,
         1676,
         392,
         344,
         183,
         1,
         0,
         4,
         4,
         123
        ],
        [
         178,
         6,
         1676,
         392,
         344,
         189,
         1,
         0,
         4,
         4,
         123
        ],
        [
         164,
         8,
         2758,
         307,
         407,
         174,
         2,
         0,
         3,
         3,
         180
        ],
        [
         173,
         8,
         2758,
         307,
         373,
         176,
         2,
         0,
         3,
         3,
         180
        ],
        [
         152,
         8,
         2758,
         307,
         378,
         18,
         2,
         0,
         3,
         3,
         180
        ],
        [
         104,
         8,
         472,
         293,
         525,
         1798,
         2,
         0,
         3,
         4,
         205
        ],
        [
         104,
         8,
         460,
         3,
         5424,
         1782,
         2,
         0,
         3,
         4,
         215
        ],
        [
         147,
         8,
         440,
         323,
         5345,
         1742,
         2,
         0,
         3,
         4,
         230
        ],
        [
         324,
         4,
         787,
         408,
         22,
         1947,
         1,
         1,
         4,
         1,
         66
        ],
        [
         304,
         4,
         757,
         493,
         1615,
         1852,
         1,
         1,
         4,
         2,
         52
        ],
        [
         339,
         4,
         711,
         422,
         1835,
         199,
         1,
         1,
         4,
         1,
         65
        ],
        [
         215,
         4,
         1201,
         37,
         2465,
         2001,
         1,
         0,
         3,
         1,
         97
        ],
        [
         155,
         8,
         318,
         276,
         352,
         1687,
         2,
         0,
         3,
         2,
         150
        ],
        [
         152,
         8,
         304,
         315,
         3435,
         173,
         2,
         0,
         3,
         2,
         150
        ],
        [
         133,
         8,
         350,
         373,
         384,
         1541,
         2,
         0,
         3,
         4,
         245
        ],
        [
         192,
         8,
         400,
         308,
         3845,
         1705,
         2,
         0,
         3,
         2,
         175
        ],
        [
         273,
         4,
         79,
         408,
         1935,
         189,
         1,
         1,
         4,
         1,
         66
        ],
        [
         26,
         4,
         1203,
         443,
         214,
         167,
         2,
         1,
         5,
         2,
         91
        ],
        [
         304,
         4,
         951,
         377,
         1513,
         169,
         1,
         1,
         5,
         2,
         113
        ],
        [
         158,
         8,
         351,
         422,
         317,
         145,
         2,
         1,
         5,
         4,
         264
        ],
        [
         197,
         6,
         145,
         362,
         277,
         155,
         2,
         1,
         5,
         6,
         175
        ],
        [
         15,
         8,
         301,
         354,
         357,
         146,
         2,
         1,
         5,
         8,
         335
        ],
        [
         214,
         4,
         121,
         411,
         278,
         186,
         1,
         1,
         4,
         2,
         109
        ]
       ],
       "datasetInfos": [],
       "dbfsResultPath": null,
       "isJsonSchema": true,
       "metadata": {},
       "overflow": false,
       "plotOptions": {
        "customPlotOptions": {},
        "displayType": "table",
        "pivotAggregation": null,
        "pivotColumns": null,
        "xColumns": null,
        "yColumns": null
       },
       "removedWidgets": [],
       "schema": [
        {
         "metadata": "{}",
         "name": "Consumo",
         "type": "\"integer\""
        },
        {
         "metadata": "{}",
         "name": "Cilindros",
         "type": "\"integer\""
        },
        {
         "metadata": "{}",
         "name": "Cilindradas",
         "type": "\"integer\""
        },
        {
         "metadata": "{}",
         "name": "RelEixoTraseiro",
         "type": "\"integer\""
        },
        {
         "metadata": "{}",
         "name": "Peso",
         "type": "\"integer\""
        },
        {
         "metadata": "{}",
         "name": "Tempo",
         "type": "\"integer\""
        },
        {
         "metadata": "{}",
         "name": "TipoMotor",
         "type": "\"integer\""
        },
        {
         "metadata": "{}",
         "name": "Transmissao",
         "type": "\"integer\""
        },
        {
         "metadata": "{}",
         "name": "Marchas",
         "type": "\"integer\""
        },
        {
         "metadata": "{}",
         "name": "Carburadors",
         "type": "\"integer\""
        },
        {
         "metadata": "{}",
         "name": "HP",
         "type": "\"integer\""
        }
       ],
       "type": "table"
      }
     },
     "output_type": "display_data"
    }
   ],
   "source": [
    "#grava , carrega e exibe\n",
    "delta_df.write.format(\"delta\").mode(\"overwrite\").save(\"/tmp/carros_delta\")\n",
    "update_delta_df = spark.read.format(\"delta\").load(\"/tmp/carros_delta\")\n",
    "update_delta_df.display()"
   ]
  },
  {
   "cell_type": "code",
   "execution_count": 0,
   "metadata": {
    "application/vnd.databricks.v1+cell": {
     "cellMetadata": {
      "byteLimit": 2048000,
      "rowLimit": 10000
     },
     "inputWidgets": {},
     "nuid": "7ceccb9f-a8c5-4f49-b3c5-8529b68fa672",
     "showTitle": false,
     "title": ""
    }
   },
   "outputs": [
    {
     "output_type": "display_data",
     "data": {
      "text/html": [
       "<style scoped>\n",
       "  .table-result-container {\n",
       "    max-height: 300px;\n",
       "    overflow: auto;\n",
       "  }\n",
       "  table, th, td {\n",
       "    border: 1px solid black;\n",
       "    border-collapse: collapse;\n",
       "  }\n",
       "  th, td {\n",
       "    padding: 5px;\n",
       "  }\n",
       "  th {\n",
       "    text-align: left;\n",
       "  }\n",
       "</style><div class='table-result-container'><table class='table-result'><thead style='background-color: white'><tr><th>Consumo</th><th>Cilindros</th><th>Cilindradas</th><th>RelEixoTraseiro</th><th>Peso</th><th>Tempo</th><th>TipoMotor</th><th>Transmissao</th><th>Marchas</th><th>Carburadors</th><th>HP</th></tr></thead><tbody><tr><td>21</td><td>6</td><td>160</td><td>39</td><td>262</td><td>1646</td><td>2</td><td>1</td><td>4</td><td>4</td><td>110</td></tr><tr><td>21</td><td>6</td><td>160</td><td>39</td><td>2875</td><td>1702</td><td>2</td><td>1</td><td>4</td><td>4</td><td>110</td></tr><tr><td>228</td><td>4</td><td>108</td><td>385</td><td>232</td><td>1861</td><td>1</td><td>1</td><td>4</td><td>1</td><td>93</td></tr><tr><td>214</td><td>6</td><td>258</td><td>308</td><td>3215</td><td>1944</td><td>1</td><td>0</td><td>3</td><td>1</td><td>110</td></tr><tr><td>187</td><td>8</td><td>360</td><td>315</td><td>344</td><td>1702</td><td>2</td><td>0</td><td>3</td><td>2</td><td>175</td></tr><tr><td>181</td><td>6</td><td>225</td><td>276</td><td>346</td><td>2022</td><td>1</td><td>0</td><td>3</td><td>1</td><td>105</td></tr><tr><td>143</td><td>8</td><td>360</td><td>321</td><td>357</td><td>1584</td><td>2</td><td>0</td><td>3</td><td>4</td><td>245</td></tr><tr><td>244</td><td>4</td><td>1467</td><td>369</td><td>319</td><td>20</td><td>1</td><td>0</td><td>4</td><td>2</td><td>62</td></tr><tr><td>228</td><td>4</td><td>1408</td><td>392</td><td>315</td><td>229</td><td>1</td><td>0</td><td>4</td><td>2</td><td>95</td></tr><tr><td>192</td><td>6</td><td>1676</td><td>392</td><td>344</td><td>183</td><td>1</td><td>0</td><td>4</td><td>4</td><td>123</td></tr><tr><td>178</td><td>6</td><td>1676</td><td>392</td><td>344</td><td>189</td><td>1</td><td>0</td><td>4</td><td>4</td><td>123</td></tr><tr><td>164</td><td>8</td><td>2758</td><td>307</td><td>407</td><td>174</td><td>2</td><td>0</td><td>3</td><td>3</td><td>180</td></tr><tr><td>173</td><td>8</td><td>2758</td><td>307</td><td>373</td><td>176</td><td>2</td><td>0</td><td>3</td><td>3</td><td>180</td></tr><tr><td>152</td><td>8</td><td>2758</td><td>307</td><td>378</td><td>18</td><td>2</td><td>0</td><td>3</td><td>3</td><td>180</td></tr><tr><td>104</td><td>8</td><td>472</td><td>293</td><td>525</td><td>1798</td><td>2</td><td>0</td><td>3</td><td>4</td><td>205</td></tr><tr><td>104</td><td>8</td><td>460</td><td>3</td><td>5424</td><td>1782</td><td>2</td><td>0</td><td>3</td><td>4</td><td>215</td></tr><tr><td>147</td><td>8</td><td>440</td><td>323</td><td>5345</td><td>1742</td><td>2</td><td>0</td><td>3</td><td>4</td><td>230</td></tr><tr><td>324</td><td>4</td><td>787</td><td>408</td><td>22</td><td>1947</td><td>1</td><td>1</td><td>4</td><td>1</td><td>66</td></tr><tr><td>304</td><td>4</td><td>757</td><td>493</td><td>1615</td><td>1852</td><td>1</td><td>1</td><td>4</td><td>2</td><td>52</td></tr><tr><td>339</td><td>4</td><td>711</td><td>422</td><td>1835</td><td>199</td><td>1</td><td>1</td><td>4</td><td>1</td><td>65</td></tr><tr><td>215</td><td>4</td><td>1201</td><td>37</td><td>2465</td><td>2001</td><td>1</td><td>0</td><td>3</td><td>1</td><td>97</td></tr><tr><td>155</td><td>8</td><td>318</td><td>276</td><td>352</td><td>1687</td><td>2</td><td>0</td><td>3</td><td>2</td><td>150</td></tr><tr><td>152</td><td>8</td><td>304</td><td>315</td><td>3435</td><td>173</td><td>2</td><td>0</td><td>3</td><td>2</td><td>150</td></tr><tr><td>133</td><td>8</td><td>350</td><td>373</td><td>384</td><td>1541</td><td>2</td><td>0</td><td>3</td><td>4</td><td>245</td></tr><tr><td>192</td><td>8</td><td>400</td><td>308</td><td>3845</td><td>1705</td><td>2</td><td>0</td><td>3</td><td>2</td><td>175</td></tr><tr><td>273</td><td>4</td><td>79</td><td>408</td><td>1935</td><td>189</td><td>1</td><td>1</td><td>4</td><td>1</td><td>66</td></tr><tr><td>26</td><td>4</td><td>1203</td><td>443</td><td>214</td><td>167</td><td>2</td><td>1</td><td>5</td><td>2</td><td>91</td></tr><tr><td>304</td><td>4</td><td>951</td><td>377</td><td>1513</td><td>169</td><td>1</td><td>1</td><td>5</td><td>2</td><td>113</td></tr><tr><td>158</td><td>8</td><td>351</td><td>422</td><td>317</td><td>145</td><td>2</td><td>1</td><td>5</td><td>4</td><td>264</td></tr><tr><td>197</td><td>6</td><td>145</td><td>362</td><td>277</td><td>155</td><td>2</td><td>1</td><td>5</td><td>6</td><td>175</td></tr><tr><td>15</td><td>8</td><td>301</td><td>354</td><td>357</td><td>146</td><td>2</td><td>1</td><td>5</td><td>8</td><td>335</td></tr><tr><td>214</td><td>4</td><td>121</td><td>411</td><td>278</td><td>186</td><td>1</td><td>1</td><td>4</td><td>2</td><td>109</td></tr></tbody></table></div>"
      ]
     },
     "metadata": {
      "application/vnd.databricks.v1+output": {
       "addedWidgets": {},
       "aggData": [],
       "aggError": "",
       "aggOverflow": false,
       "aggSchema": [],
       "aggSeriesLimitReached": false,
       "aggType": "",
       "arguments": {},
       "columnCustomDisplayInfos": {},
       "data": [
        [
         21,
         6,
         160,
         39,
         262,
         1646,
         2,
         1,
         4,
         4,
         110
        ],
        [
         21,
         6,
         160,
         39,
         2875,
         1702,
         2,
         1,
         4,
         4,
         110
        ],
        [
         228,
         4,
         108,
         385,
         232,
         1861,
         1,
         1,
         4,
         1,
         93
        ],
        [
         214,
         6,
         258,
         308,
         3215,
         1944,
         1,
         0,
         3,
         1,
         110
        ],
        [
         187,
         8,
         360,
         315,
         344,
         1702,
         2,
         0,
         3,
         2,
         175
        ],
        [
         181,
         6,
         225,
         276,
         346,
         2022,
         1,
         0,
         3,
         1,
         105
        ],
        [
         143,
         8,
         360,
         321,
         357,
         1584,
         2,
         0,
         3,
         4,
         245
        ],
        [
         244,
         4,
         1467,
         369,
         319,
         20,
         1,
         0,
         4,
         2,
         62
        ],
        [
         228,
         4,
         1408,
         392,
         315,
         229,
         1,
         0,
         4,
         2,
         95
        ],
        [
         192,
         6,
         1676,
         392,
         344,
         183,
         1,
         0,
         4,
         4,
         123
        ],
        [
         178,
         6,
         1676,
         392,
         344,
         189,
         1,
         0,
         4,
         4,
         123
        ],
        [
         164,
         8,
         2758,
         307,
         407,
         174,
         2,
         0,
         3,
         3,
         180
        ],
        [
         173,
         8,
         2758,
         307,
         373,
         176,
         2,
         0,
         3,
         3,
         180
        ],
        [
         152,
         8,
         2758,
         307,
         378,
         18,
         2,
         0,
         3,
         3,
         180
        ],
        [
         104,
         8,
         472,
         293,
         525,
         1798,
         2,
         0,
         3,
         4,
         205
        ],
        [
         104,
         8,
         460,
         3,
         5424,
         1782,
         2,
         0,
         3,
         4,
         215
        ],
        [
         147,
         8,
         440,
         323,
         5345,
         1742,
         2,
         0,
         3,
         4,
         230
        ],
        [
         324,
         4,
         787,
         408,
         22,
         1947,
         1,
         1,
         4,
         1,
         66
        ],
        [
         304,
         4,
         757,
         493,
         1615,
         1852,
         1,
         1,
         4,
         2,
         52
        ],
        [
         339,
         4,
         711,
         422,
         1835,
         199,
         1,
         1,
         4,
         1,
         65
        ],
        [
         215,
         4,
         1201,
         37,
         2465,
         2001,
         1,
         0,
         3,
         1,
         97
        ],
        [
         155,
         8,
         318,
         276,
         352,
         1687,
         2,
         0,
         3,
         2,
         150
        ],
        [
         152,
         8,
         304,
         315,
         3435,
         173,
         2,
         0,
         3,
         2,
         150
        ],
        [
         133,
         8,
         350,
         373,
         384,
         1541,
         2,
         0,
         3,
         4,
         245
        ],
        [
         192,
         8,
         400,
         308,
         3845,
         1705,
         2,
         0,
         3,
         2,
         175
        ],
        [
         273,
         4,
         79,
         408,
         1935,
         189,
         1,
         1,
         4,
         1,
         66
        ],
        [
         26,
         4,
         1203,
         443,
         214,
         167,
         2,
         1,
         5,
         2,
         91
        ],
        [
         304,
         4,
         951,
         377,
         1513,
         169,
         1,
         1,
         5,
         2,
         113
        ],
        [
         158,
         8,
         351,
         422,
         317,
         145,
         2,
         1,
         5,
         4,
         264
        ],
        [
         197,
         6,
         145,
         362,
         277,
         155,
         2,
         1,
         5,
         6,
         175
        ],
        [
         15,
         8,
         301,
         354,
         357,
         146,
         2,
         1,
         5,
         8,
         335
        ],
        [
         214,
         4,
         121,
         411,
         278,
         186,
         1,
         1,
         4,
         2,
         109
        ]
       ],
       "datasetInfos": [],
       "dbfsResultPath": null,
       "isJsonSchema": true,
       "metadata": {},
       "overflow": false,
       "plotOptions": {
        "customPlotOptions": {},
        "displayType": "table",
        "pivotAggregation": null,
        "pivotColumns": null,
        "xColumns": null,
        "yColumns": null
       },
       "removedWidgets": [],
       "schema": [
        {
         "metadata": "{}",
         "name": "Consumo",
         "type": "\"integer\""
        },
        {
         "metadata": "{}",
         "name": "Cilindros",
         "type": "\"integer\""
        },
        {
         "metadata": "{}",
         "name": "Cilindradas",
         "type": "\"integer\""
        },
        {
         "metadata": "{}",
         "name": "RelEixoTraseiro",
         "type": "\"integer\""
        },
        {
         "metadata": "{}",
         "name": "Peso",
         "type": "\"integer\""
        },
        {
         "metadata": "{}",
         "name": "Tempo",
         "type": "\"integer\""
        },
        {
         "metadata": "{}",
         "name": "TipoMotor",
         "type": "\"integer\""
        },
        {
         "metadata": "{}",
         "name": "Transmissao",
         "type": "\"integer\""
        },
        {
         "metadata": "{}",
         "name": "Marchas",
         "type": "\"integer\""
        },
        {
         "metadata": "{}",
         "name": "Carburadors",
         "type": "\"integer\""
        },
        {
         "metadata": "{}",
         "name": "HP",
         "type": "\"integer\""
        }
       ],
       "type": "table"
      }
     },
     "output_type": "display_data"
    }
   ],
   "source": [
    "#rollback da tabela\n",
    "version0_df = spark.read.format(\"delta\").option(\"versionAs0f\", 0).load(\"/tmp/carros_delta\")\n",
    "version0_df.display()"
   ]
  },
  {
   "cell_type": "code",
   "execution_count": 0,
   "metadata": {
    "application/vnd.databricks.v1+cell": {
     "cellMetadata": {
      "byteLimit": 2048000,
      "rowLimit": 10000
     },
     "inputWidgets": {},
     "nuid": "34a0c7fe-69c7-4899-9272-2324d771a38f",
     "showTitle": false,
     "title": ""
    }
   },
   "outputs": [
    {
     "output_type": "display_data",
     "data": {
      "text/html": [
       "<style scoped>\n",
       "  .table-result-container {\n",
       "    max-height: 300px;\n",
       "    overflow: auto;\n",
       "  }\n",
       "  table, th, td {\n",
       "    border: 1px solid black;\n",
       "    border-collapse: collapse;\n",
       "  }\n",
       "  th, td {\n",
       "    padding: 5px;\n",
       "  }\n",
       "  th {\n",
       "    text-align: left;\n",
       "  }\n",
       "</style><div class='table-result-container'><table class='table-result'><thead style='background-color: white'><tr><th>Consumo</th><th>Cilindros</th><th>Cilindradas</th><th>RelEixoTraseiro</th><th>Peso</th><th>Tempo</th><th>TipoMotor</th><th>Transmissao</th><th>Marchas</th><th>Carburadors</th><th>HP</th></tr></thead><tbody><tr><td>21</td><td>6</td><td>160</td><td>39</td><td>262</td><td>1646</td><td>2</td><td>1</td><td>4</td><td>4</td><td>110</td></tr><tr><td>21</td><td>6</td><td>160</td><td>39</td><td>2875</td><td>1702</td><td>2</td><td>1</td><td>4</td><td>4</td><td>110</td></tr><tr><td>228</td><td>4</td><td>108</td><td>385</td><td>232</td><td>1861</td><td>1</td><td>1</td><td>4</td><td>1</td><td>93</td></tr><tr><td>214</td><td>6</td><td>258</td><td>308</td><td>3215</td><td>1944</td><td>1</td><td>0</td><td>3</td><td>1</td><td>110</td></tr><tr><td>187</td><td>8</td><td>360</td><td>315</td><td>344</td><td>1702</td><td>2</td><td>0</td><td>3</td><td>2</td><td>175</td></tr><tr><td>181</td><td>6</td><td>225</td><td>276</td><td>346</td><td>2022</td><td>1</td><td>0</td><td>3</td><td>1</td><td>105</td></tr><tr><td>143</td><td>8</td><td>360</td><td>321</td><td>357</td><td>1584</td><td>2</td><td>0</td><td>3</td><td>4</td><td>245</td></tr><tr><td>244</td><td>4</td><td>1467</td><td>369</td><td>319</td><td>20</td><td>1</td><td>0</td><td>4</td><td>2</td><td>62</td></tr><tr><td>228</td><td>4</td><td>1408</td><td>392</td><td>315</td><td>229</td><td>1</td><td>0</td><td>4</td><td>2</td><td>95</td></tr><tr><td>192</td><td>6</td><td>1676</td><td>392</td><td>344</td><td>183</td><td>1</td><td>0</td><td>4</td><td>4</td><td>123</td></tr><tr><td>178</td><td>6</td><td>1676</td><td>392</td><td>344</td><td>189</td><td>1</td><td>0</td><td>4</td><td>4</td><td>123</td></tr><tr><td>164</td><td>8</td><td>2758</td><td>307</td><td>407</td><td>174</td><td>2</td><td>0</td><td>3</td><td>3</td><td>180</td></tr><tr><td>173</td><td>8</td><td>2758</td><td>307</td><td>373</td><td>176</td><td>2</td><td>0</td><td>3</td><td>3</td><td>180</td></tr><tr><td>152</td><td>8</td><td>2758</td><td>307</td><td>378</td><td>18</td><td>2</td><td>0</td><td>3</td><td>3</td><td>180</td></tr><tr><td>104</td><td>8</td><td>472</td><td>293</td><td>525</td><td>1798</td><td>2</td><td>0</td><td>3</td><td>4</td><td>205</td></tr><tr><td>104</td><td>8</td><td>460</td><td>3</td><td>5424</td><td>1782</td><td>2</td><td>0</td><td>3</td><td>4</td><td>215</td></tr><tr><td>147</td><td>8</td><td>440</td><td>323</td><td>5345</td><td>1742</td><td>2</td><td>0</td><td>3</td><td>4</td><td>230</td></tr><tr><td>324</td><td>4</td><td>787</td><td>408</td><td>22</td><td>1947</td><td>1</td><td>1</td><td>4</td><td>1</td><td>66</td></tr><tr><td>304</td><td>4</td><td>757</td><td>493</td><td>1615</td><td>1852</td><td>1</td><td>1</td><td>4</td><td>2</td><td>52</td></tr><tr><td>339</td><td>4</td><td>711</td><td>422</td><td>1835</td><td>199</td><td>1</td><td>1</td><td>4</td><td>1</td><td>65</td></tr><tr><td>215</td><td>4</td><td>1201</td><td>37</td><td>2465</td><td>2001</td><td>1</td><td>0</td><td>3</td><td>1</td><td>97</td></tr><tr><td>155</td><td>8</td><td>318</td><td>276</td><td>352</td><td>1687</td><td>2</td><td>0</td><td>3</td><td>2</td><td>150</td></tr><tr><td>152</td><td>8</td><td>304</td><td>315</td><td>3435</td><td>173</td><td>2</td><td>0</td><td>3</td><td>2</td><td>150</td></tr><tr><td>133</td><td>8</td><td>350</td><td>373</td><td>384</td><td>1541</td><td>2</td><td>0</td><td>3</td><td>4</td><td>245</td></tr><tr><td>192</td><td>8</td><td>400</td><td>308</td><td>3845</td><td>1705</td><td>2</td><td>0</td><td>3</td><td>2</td><td>175</td></tr><tr><td>273</td><td>4</td><td>79</td><td>408</td><td>1935</td><td>189</td><td>1</td><td>1</td><td>4</td><td>1</td><td>66</td></tr><tr><td>26</td><td>4</td><td>1203</td><td>443</td><td>214</td><td>167</td><td>2</td><td>1</td><td>5</td><td>2</td><td>91</td></tr><tr><td>304</td><td>4</td><td>951</td><td>377</td><td>1513</td><td>169</td><td>1</td><td>1</td><td>5</td><td>2</td><td>113</td></tr><tr><td>158</td><td>8</td><td>351</td><td>422</td><td>317</td><td>145</td><td>2</td><td>1</td><td>5</td><td>4</td><td>264</td></tr><tr><td>197</td><td>6</td><td>145</td><td>362</td><td>277</td><td>155</td><td>2</td><td>1</td><td>5</td><td>6</td><td>175</td></tr><tr><td>15</td><td>8</td><td>301</td><td>354</td><td>357</td><td>146</td><td>2</td><td>1</td><td>5</td><td>8</td><td>335</td></tr><tr><td>214</td><td>4</td><td>121</td><td>411</td><td>278</td><td>186</td><td>1</td><td>1</td><td>4</td><td>2</td><td>109</td></tr></tbody></table></div>"
      ]
     },
     "metadata": {
      "application/vnd.databricks.v1+output": {
       "addedWidgets": {},
       "aggData": [],
       "aggError": "",
       "aggOverflow": false,
       "aggSchema": [],
       "aggSeriesLimitReached": false,
       "aggType": "",
       "arguments": {},
       "columnCustomDisplayInfos": {},
       "data": [
        [
         21,
         6,
         160,
         39,
         262,
         1646,
         2,
         1,
         4,
         4,
         110
        ],
        [
         21,
         6,
         160,
         39,
         2875,
         1702,
         2,
         1,
         4,
         4,
         110
        ],
        [
         228,
         4,
         108,
         385,
         232,
         1861,
         1,
         1,
         4,
         1,
         93
        ],
        [
         214,
         6,
         258,
         308,
         3215,
         1944,
         1,
         0,
         3,
         1,
         110
        ],
        [
         187,
         8,
         360,
         315,
         344,
         1702,
         2,
         0,
         3,
         2,
         175
        ],
        [
         181,
         6,
         225,
         276,
         346,
         2022,
         1,
         0,
         3,
         1,
         105
        ],
        [
         143,
         8,
         360,
         321,
         357,
         1584,
         2,
         0,
         3,
         4,
         245
        ],
        [
         244,
         4,
         1467,
         369,
         319,
         20,
         1,
         0,
         4,
         2,
         62
        ],
        [
         228,
         4,
         1408,
         392,
         315,
         229,
         1,
         0,
         4,
         2,
         95
        ],
        [
         192,
         6,
         1676,
         392,
         344,
         183,
         1,
         0,
         4,
         4,
         123
        ],
        [
         178,
         6,
         1676,
         392,
         344,
         189,
         1,
         0,
         4,
         4,
         123
        ],
        [
         164,
         8,
         2758,
         307,
         407,
         174,
         2,
         0,
         3,
         3,
         180
        ],
        [
         173,
         8,
         2758,
         307,
         373,
         176,
         2,
         0,
         3,
         3,
         180
        ],
        [
         152,
         8,
         2758,
         307,
         378,
         18,
         2,
         0,
         3,
         3,
         180
        ],
        [
         104,
         8,
         472,
         293,
         525,
         1798,
         2,
         0,
         3,
         4,
         205
        ],
        [
         104,
         8,
         460,
         3,
         5424,
         1782,
         2,
         0,
         3,
         4,
         215
        ],
        [
         147,
         8,
         440,
         323,
         5345,
         1742,
         2,
         0,
         3,
         4,
         230
        ],
        [
         324,
         4,
         787,
         408,
         22,
         1947,
         1,
         1,
         4,
         1,
         66
        ],
        [
         304,
         4,
         757,
         493,
         1615,
         1852,
         1,
         1,
         4,
         2,
         52
        ],
        [
         339,
         4,
         711,
         422,
         1835,
         199,
         1,
         1,
         4,
         1,
         65
        ],
        [
         215,
         4,
         1201,
         37,
         2465,
         2001,
         1,
         0,
         3,
         1,
         97
        ],
        [
         155,
         8,
         318,
         276,
         352,
         1687,
         2,
         0,
         3,
         2,
         150
        ],
        [
         152,
         8,
         304,
         315,
         3435,
         173,
         2,
         0,
         3,
         2,
         150
        ],
        [
         133,
         8,
         350,
         373,
         384,
         1541,
         2,
         0,
         3,
         4,
         245
        ],
        [
         192,
         8,
         400,
         308,
         3845,
         1705,
         2,
         0,
         3,
         2,
         175
        ],
        [
         273,
         4,
         79,
         408,
         1935,
         189,
         1,
         1,
         4,
         1,
         66
        ],
        [
         26,
         4,
         1203,
         443,
         214,
         167,
         2,
         1,
         5,
         2,
         91
        ],
        [
         304,
         4,
         951,
         377,
         1513,
         169,
         1,
         1,
         5,
         2,
         113
        ],
        [
         158,
         8,
         351,
         422,
         317,
         145,
         2,
         1,
         5,
         4,
         264
        ],
        [
         197,
         6,
         145,
         362,
         277,
         155,
         2,
         1,
         5,
         6,
         175
        ],
        [
         15,
         8,
         301,
         354,
         357,
         146,
         2,
         1,
         5,
         8,
         335
        ],
        [
         214,
         4,
         121,
         411,
         278,
         186,
         1,
         1,
         4,
         2,
         109
        ]
       ],
       "datasetInfos": [],
       "dbfsResultPath": null,
       "isJsonSchema": true,
       "metadata": {},
       "overflow": false,
       "plotOptions": {
        "customPlotOptions": {},
        "displayType": "table",
        "pivotAggregation": null,
        "pivotColumns": null,
        "xColumns": null,
        "yColumns": null
       },
       "removedWidgets": [],
       "schema": [
        {
         "metadata": "{}",
         "name": "Consumo",
         "type": "\"integer\""
        },
        {
         "metadata": "{}",
         "name": "Cilindros",
         "type": "\"integer\""
        },
        {
         "metadata": "{}",
         "name": "Cilindradas",
         "type": "\"integer\""
        },
        {
         "metadata": "{}",
         "name": "RelEixoTraseiro",
         "type": "\"integer\""
        },
        {
         "metadata": "{}",
         "name": "Peso",
         "type": "\"integer\""
        },
        {
         "metadata": "{}",
         "name": "Tempo",
         "type": "\"integer\""
        },
        {
         "metadata": "{}",
         "name": "TipoMotor",
         "type": "\"integer\""
        },
        {
         "metadata": "{}",
         "name": "Transmissao",
         "type": "\"integer\""
        },
        {
         "metadata": "{}",
         "name": "Marchas",
         "type": "\"integer\""
        },
        {
         "metadata": "{}",
         "name": "Carburadors",
         "type": "\"integer\""
        },
        {
         "metadata": "{}",
         "name": "HP",
         "type": "\"integer\""
        }
       ],
       "type": "table"
      }
     },
     "output_type": "display_data"
    }
   ],
   "source": [
    "#versao atual continua\n",
    "pdate_delta_df.display()"
   ]
  },
  {
   "cell_type": "code",
   "execution_count": 0,
   "metadata": {
    "application/vnd.databricks.v1+cell": {
     "cellMetadata": {
      "byteLimit": 2048000,
      "rowLimit": 10000
     },
     "inputWidgets": {},
     "nuid": "1e452223-2454-4086-8381-3969206e8538",
     "showTitle": false,
     "title": ""
    }
   },
   "outputs": [
    {
     "output_type": "execute_result",
     "data": {
      "text/plain": [
       "True"
      ]
     },
     "execution_count": 10,
     "metadata": {},
     "output_type": "execute_result"
    }
   ],
   "source": [
    "#apaga delta\n",
    "dbutils.fs.rm(\"/tmp/carros_delta\", recurse=True)"
   ]
  }
 ],
 "metadata": {
  "application/vnd.databricks.v1+notebook": {
   "dashboards": [],
   "language": "python",
   "notebookMetadata": {
    "mostRecentlyExecutedCommandWithImplicitDF": {
     "commandId": 2744160295569948,
     "dataframes": [
      "_sqldf"
     ]
    },
    "pythonIndentUnit": 4
   },
   "notebookName": "Deltalake1",
   "widgets": {}
  }
 },
 "nbformat": 4,
 "nbformat_minor": 0
}
