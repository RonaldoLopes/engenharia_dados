{
 "cells": [
  {
   "cell_type": "code",
   "execution_count": 0,
   "metadata": {
    "application/vnd.databricks.v1+cell": {
     "cellMetadata": {
      "byteLimit": 2048000,
      "rowLimit": 10000
     },
     "inputWidgets": {},
     "nuid": "ec8a4605-1cfd-49a2-b673-68c9a02e6dd5",
     "showTitle": false,
     "tableResultSettingsMap": {},
     "title": ""
    }
   },
   "outputs": [],
   "source": [
    "from pyspark.sql.functions import *\n",
    "import requests\n",
    "from datetime import datetime"
   ]
  },
  {
   "cell_type": "code",
   "execution_count": 0,
   "metadata": {
    "application/vnd.databricks.v1+cell": {
     "cellMetadata": {
      "byteLimit": 2048000,
      "rowLimit": 10000
     },
     "inputWidgets": {},
     "nuid": "76b731b1-5129-4801-87fc-46634a903285",
     "showTitle": false,
     "tableResultSettingsMap": {},
     "title": ""
    }
   },
   "outputs": [],
   "source": [
    "def get_dollar_quotation(spark):\n",
    "    \"\"\"\n",
    "    Função para obter a cotação atual do dólar usando a API do Banco Central\n",
    "    \"\"\"\n",
    "    url = \"https://olinda.bcb.gov.br/olinda/servico/PTAX/versao/v1/odata/CotacaoDolarDia(dataCotacao=@dataCotacao)\"\n",
    "\n",
    "    today = datetime.now().strftime('%m-%d-%Y')\n",
    "    params = {'@dataCotacao': f\"'{today}'\", 'format': 'json'}\n",
    "    \n",
    "    try:\n",
    "\n",
    "        response = requests.get(url, params=params)\n",
    "        data = response.json()\n",
    "        \n",
    "        if 'value' in data and len(data['value']) > 0:\n",
    "            quotation_data = [(\n",
    "                datetime.now(),\n",
    "                data['value'][0]['cotacaoCompra'],\n",
    "                data['value'][0]['cotacaoVenda'],\n",
    "                data['value'][0]['dataHoraCotacao']\n",
    "            )]            \n",
    "        \n",
    "            df = spark.createDataFrame(\n",
    "                quotation_data,\n",
    "                [\"timestamp\", \"buying_rate\", \"selling_rate\", \"quotation_datetime\"]\n",
    "            )            \n",
    "        \n",
    "            df = df.withColumn(\n",
    "                \"average_rate\",\n",
    "                (col(\"buying_rate\") + col(\"selling_rate\")) / 2\n",
    "            )\n",
    "            \n",
    "            return df\n",
    "        else:        \n",
    "            default_data = [(datetime.now(), 0.0, 0.0, datetime.now())]\n",
    "            return spark.createDataFrame(\n",
    "                default_data,\n",
    "                [\"timestamp\", \"buying_rate\", \"selling_rate\", \"quotation_datetime\"]\n",
    "            )\n",
    "            \n",
    "    except Exception as e:\n",
    "        print(f\"Erro ao obter cotação: {str(e)}\")\n",
    "        return None"
   ]
  },
  {
   "cell_type": "code",
   "execution_count": 0,
   "metadata": {
    "application/vnd.databricks.v1+cell": {
     "cellMetadata": {
      "byteLimit": 2048000,
      "rowLimit": 10000
     },
     "inputWidgets": {},
     "nuid": "7e0b6e7c-25f1-4581-8c6d-25c22c031ac5",
     "showTitle": false,
     "tableResultSettingsMap": {},
     "title": ""
    }
   },
   "outputs": [
    {
     "output_type": "display_data",
     "data": {
      "text/html": [
       "<style scoped>\n",
       "  .table-result-container {\n",
       "    max-height: 300px;\n",
       "    overflow: auto;\n",
       "  }\n",
       "  table, th, td {\n",
       "    border: 1px solid black;\n",
       "    border-collapse: collapse;\n",
       "  }\n",
       "  th, td {\n",
       "    padding: 5px;\n",
       "  }\n",
       "  th {\n",
       "    text-align: left;\n",
       "  }\n",
       "</style><div class='table-result-container'><table class='table-result'><thead style='background-color: white'><tr><th>timestamp</th><th>buying_rate</th><th>selling_rate</th><th>quotation_datetime</th><th>average_rate</th></tr></thead><tbody><tr><td>2024-10-24T17:15:33.342371Z</td><td>5.7081</td><td>5.7087</td><td>2024-10-24 13:07:25.935</td><td>5.7084</td></tr></tbody></table></div>"
      ]
     },
     "metadata": {
      "application/vnd.databricks.v1+output": {
       "addedWidgets": {},
       "aggData": [],
       "aggError": "",
       "aggOverflow": false,
       "aggSchema": [],
       "aggSeriesLimitReached": false,
       "aggType": "",
       "arguments": {},
       "columnCustomDisplayInfos": {},
       "data": [
        [
         "2024-10-24T17:15:33.342371Z",
         5.7081,
         5.7087,
         "2024-10-24 13:07:25.935",
         5.7084
        ]
       ],
       "datasetInfos": [],
       "dbfsResultPath": null,
       "isJsonSchema": true,
       "metadata": {},
       "overflow": false,
       "plotOptions": {
        "customPlotOptions": {},
        "displayType": "table",
        "pivotAggregation": null,
        "pivotColumns": null,
        "xColumns": null,
        "yColumns": null
       },
       "removedWidgets": [],
       "schema": [
        {
         "metadata": "{}",
         "name": "timestamp",
         "type": "\"timestamp\""
        },
        {
         "metadata": "{}",
         "name": "buying_rate",
         "type": "\"double\""
        },
        {
         "metadata": "{}",
         "name": "selling_rate",
         "type": "\"double\""
        },
        {
         "metadata": "{}",
         "name": "quotation_datetime",
         "type": "\"string\""
        },
        {
         "metadata": "{}",
         "name": "average_rate",
         "type": "\"double\""
        }
       ],
       "type": "table"
      }
     },
     "output_type": "display_data"
    }
   ],
   "source": [
    "quotation_df = get_dollar_quotation(spark)\n",
    "\n",
    "display(quotation_df)\n",
    "\n",
    "# if quotation_df is not None:\n",
    "\n",
    "#     df_with_brl = your_dataframe.withColumn(\n",
    "#         \"price_brl\",\n",
    "#         col(\"price_usd\") * quotation_df.select(\"average_rate\").first()[0]\n",
    "#     )\n",
    "\n",
    "# else:\n",
    "#     print(\"Não foi possível obter a cotação do dólar\")\n"
   ]
  }
 ],
 "metadata": {
  "application/vnd.databricks.v1+notebook": {
   "dashboards": [],
   "environmentMetadata": null,
   "language": "python",
   "notebookMetadata": {
    "pythonIndentUnit": 4
   },
   "notebookName": "cotacao_dolar",
   "widgets": {}
  }
 },
 "nbformat": 4,
 "nbformat_minor": 0
}
