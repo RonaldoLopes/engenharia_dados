{
 "cells": [
  {
   "cell_type": "code",
   "execution_count": 5,
   "metadata": {},
   "outputs": [],
   "source": [
    "from kafka import KafkaConsumer as kc"
   ]
  },
  {
   "cell_type": "code",
   "execution_count": 12,
   "metadata": {},
   "outputs": [],
   "source": [
    "consumidor = kc(\"mensagens\", bootstrap_servers=\"127.0.0.1:9092\", consumer_timeout_ms=1000,\n",
    "                group_id=\"consumidores\", auto_offset_reset='earliest')"
   ]
  },
  {
   "cell_type": "code",
   "execution_count": 13,
   "metadata": {},
   "outputs": [
    {
     "name": "stdout",
     "output_type": "stream",
     "text": [
      "Topic:  mensagens\n",
      "Partição 0\n",
      "Chave b'Chave 0'\n",
      "Offset 0\n",
      "Mensage b'Mensagens 0.643520'\n",
      "--------------\n",
      "Topic:  mensagens\n",
      "Partição 0\n",
      "Chave b'Chave 1'\n",
      "Offset 1\n",
      "Mensage b'Mensagens 0.531905'\n",
      "--------------\n",
      "Topic:  mensagens\n",
      "Partição 0\n",
      "Chave b'Chave 2'\n",
      "Offset 2\n",
      "Mensage b'Mensagens 0.472862'\n",
      "--------------\n",
      "Topic:  mensagens\n",
      "Partição 0\n",
      "Chave b'Chave 3'\n",
      "Offset 3\n",
      "Mensage b'Mensagens 0.418004'\n",
      "--------------\n",
      "Topic:  mensagens\n",
      "Partição 0\n",
      "Chave b'Chave 4'\n",
      "Offset 4\n",
      "Mensage b'Mensagens 0.394471'\n",
      "--------------\n",
      "Topic:  mensagens\n",
      "Partição 0\n",
      "Chave b'Chave 5'\n",
      "Offset 5\n",
      "Mensage b'Mensagens 0.990086'\n",
      "--------------\n",
      "Topic:  mensagens\n",
      "Partição 0\n",
      "Chave b'Chave 6'\n",
      "Offset 6\n",
      "Mensage b'Mensagens 0.480098'\n",
      "--------------\n",
      "Topic:  mensagens\n",
      "Partição 0\n",
      "Chave b'Chave 7'\n",
      "Offset 7\n",
      "Mensage b'Mensagens 0.378446'\n",
      "--------------\n",
      "Topic:  mensagens\n",
      "Partição 0\n",
      "Chave b'Chave 8'\n",
      "Offset 8\n",
      "Mensage b'Mensagens 0.871156'\n",
      "--------------\n",
      "Topic:  mensagens\n",
      "Partição 0\n",
      "Chave b'Chave 9'\n",
      "Offset 9\n",
      "Mensage b'Mensagens 0.244176'\n",
      "--------------\n"
     ]
    }
   ],
   "source": [
    "for mensagem in consumidor:\n",
    "    print(\"Topic: \", mensagem.topic)\n",
    "    print(\"Partição\", mensagem.partition)\n",
    "    print(\"Chave\", mensagem.key)\n",
    "    print(\"Offset\", mensagem.offset)\n",
    "    print(\"Mensage\", mensagem.value)\n",
    "    print(\"--------------\")"
   ]
  }
 ],
 "metadata": {
  "kernelspec": {
   "display_name": "venv",
   "language": "python",
   "name": "python3"
  },
  "language_info": {
   "codemirror_mode": {
    "name": "ipython",
    "version": 3
   },
   "file_extension": ".py",
   "mimetype": "text/x-python",
   "name": "python",
   "nbconvert_exporter": "python",
   "pygments_lexer": "ipython3",
   "version": "3.10.12"
  }
 },
 "nbformat": 4,
 "nbformat_minor": 2
}
